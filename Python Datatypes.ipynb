{
 "cells": [
  {
   "cell_type": "markdown",
   "id": "2e818b6e",
   "metadata": {},
   "source": [
    "# List:"
   ]
  },
  {
   "cell_type": "code",
   "execution_count": 26,
   "id": "37b13de1",
   "metadata": {},
   "outputs": [
    {
     "name": "stdout",
     "output_type": "stream",
     "text": [
      "[10, 20, 50.5, [50, 55, 58], True, 'sat']\n"
     ]
    }
   ],
   "source": [
    "l = [10, 20, 50.5, [50, 55, 58], True, 'sat']\n",
    "print(l)"
   ]
  },
  {
   "cell_type": "code",
   "execution_count": 27,
   "id": "dd07c253",
   "metadata": {},
   "outputs": [
    {
     "data": {
      "text/plain": [
       "20"
      ]
     },
     "execution_count": 27,
     "metadata": {},
     "output_type": "execute_result"
    }
   ],
   "source": [
    "l[1]"
   ]
  },
  {
   "cell_type": "code",
   "execution_count": 28,
   "id": "c289cc2e",
   "metadata": {},
   "outputs": [
    {
     "data": {
      "text/plain": [
       "True"
      ]
     },
     "execution_count": 28,
     "metadata": {},
     "output_type": "execute_result"
    }
   ],
   "source": [
    "l[4]"
   ]
  },
  {
   "cell_type": "code",
   "execution_count": 29,
   "id": "5c29dcef",
   "metadata": {},
   "outputs": [
    {
     "data": {
      "text/plain": [
       "[50.5, [50, 55, 58], True]"
      ]
     },
     "execution_count": 29,
     "metadata": {},
     "output_type": "execute_result"
    }
   ],
   "source": [
    "l[2:5]"
   ]
  },
  {
   "cell_type": "code",
   "execution_count": 30,
   "id": "a4b5c735",
   "metadata": {},
   "outputs": [
    {
     "data": {
      "text/plain": [
       "[10, 20, 30, 40, 50, 60, 70]"
      ]
     },
     "execution_count": 30,
     "metadata": {},
     "output_type": "execute_result"
    }
   ],
   "source": [
    "l1 = [10, 20, 30, 40, 50, 60, 70]\n",
    "l1"
   ]
  },
  {
   "cell_type": "code",
   "execution_count": 31,
   "id": "cce2d20c",
   "metadata": {},
   "outputs": [
    {
     "name": "stdout",
     "output_type": "stream",
     "text": [
      "20\n"
     ]
    }
   ],
   "source": [
    "print(l1[1])"
   ]
  },
  {
   "cell_type": "code",
   "execution_count": 32,
   "id": "d956dc3c",
   "metadata": {},
   "outputs": [
    {
     "name": "stdout",
     "output_type": "stream",
     "text": [
      "[10, 20, 30]\n"
     ]
    }
   ],
   "source": [
    "print(l1[0:3])"
   ]
  },
  {
   "cell_type": "code",
   "execution_count": 33,
   "id": "4f5ee68c",
   "metadata": {},
   "outputs": [
    {
     "name": "stdout",
     "output_type": "stream",
     "text": [
      "70\n"
     ]
    }
   ],
   "source": [
    "print(l1[-1])"
   ]
  },
  {
   "cell_type": "code",
   "execution_count": 34,
   "id": "b70a5bb3",
   "metadata": {},
   "outputs": [
    {
     "name": "stdout",
     "output_type": "stream",
     "text": [
      "40\n"
     ]
    }
   ],
   "source": [
    "print(l1[-4])"
   ]
  },
  {
   "cell_type": "code",
   "execution_count": 35,
   "id": "fe90b3b4",
   "metadata": {},
   "outputs": [
    {
     "name": "stdout",
     "output_type": "stream",
     "text": [
      "[40, 50]\n"
     ]
    }
   ],
   "source": [
    "print(l1[-4:-2])"
   ]
  },
  {
   "cell_type": "code",
   "execution_count": 36,
   "id": "14052fc0",
   "metadata": {},
   "outputs": [
    {
     "name": "stdout",
     "output_type": "stream",
     "text": [
      "[40, 50, 60, 70]\n"
     ]
    }
   ],
   "source": [
    "print(l1[-4:])"
   ]
  },
  {
   "cell_type": "code",
   "execution_count": 37,
   "id": "5f605e07",
   "metadata": {},
   "outputs": [
    {
     "data": {
      "text/plain": [
       "[10, 20, 30, 40, 50, 60, 70]"
      ]
     },
     "execution_count": 37,
     "metadata": {},
     "output_type": "execute_result"
    }
   ],
   "source": [
    "l1"
   ]
  },
  {
   "cell_type": "code",
   "execution_count": 38,
   "id": "58f52ea4",
   "metadata": {},
   "outputs": [
    {
     "data": {
      "text/plain": [
       "[100, 110, 120]"
      ]
     },
     "execution_count": 38,
     "metadata": {},
     "output_type": "execute_result"
    }
   ],
   "source": [
    "list2 = [100, 110, 120]\n",
    "list2"
   ]
  },
  {
   "cell_type": "code",
   "execution_count": 39,
   "id": "6f5283b8",
   "metadata": {},
   "outputs": [
    {
     "name": "stdout",
     "output_type": "stream",
     "text": [
      "[10, 20, 30, 40, 50, 60, 70, 100, 110, 120, 50, 51, 52]\n"
     ]
    }
   ],
   "source": [
    "print(l1+list2+[50, 51, 52])"
   ]
  },
  {
   "cell_type": "code",
   "execution_count": 40,
   "id": "b8bc55b9",
   "metadata": {},
   "outputs": [
    {
     "data": {
      "text/plain": [
       "'SatSatSat'"
      ]
     },
     "execution_count": 40,
     "metadata": {},
     "output_type": "execute_result"
    }
   ],
   "source": [
    "x = 'Sat'\n",
    "x*3"
   ]
  },
  {
   "cell_type": "code",
   "execution_count": 41,
   "id": "0cf54e3c",
   "metadata": {},
   "outputs": [
    {
     "data": {
      "text/plain": [
       "[100, 110, 120]"
      ]
     },
     "execution_count": 41,
     "metadata": {},
     "output_type": "execute_result"
    }
   ],
   "source": [
    "list2"
   ]
  },
  {
   "cell_type": "code",
   "execution_count": 42,
   "id": "c6d2d88b",
   "metadata": {},
   "outputs": [
    {
     "name": "stdout",
     "output_type": "stream",
     "text": [
      "False\n"
     ]
    }
   ],
   "source": [
    "print(130 in list2)"
   ]
  },
  {
   "cell_type": "code",
   "execution_count": 43,
   "id": "c83fa6ed",
   "metadata": {},
   "outputs": [
    {
     "name": "stdout",
     "output_type": "stream",
     "text": [
      "True\n"
     ]
    }
   ],
   "source": [
    "print(110 in list2)"
   ]
  },
  {
   "cell_type": "code",
   "execution_count": 44,
   "id": "02e3739d",
   "metadata": {},
   "outputs": [
    {
     "data": {
      "text/plain": [
       "[10, 30, 40, 50, 70, 25, 17]"
      ]
     },
     "execution_count": 44,
     "metadata": {},
     "output_type": "execute_result"
    }
   ],
   "source": [
    "l2 = [10,30,40,50,70,25,17]\n",
    "l2"
   ]
  },
  {
   "cell_type": "code",
   "execution_count": 45,
   "id": "92e9a62b",
   "metadata": {},
   "outputs": [],
   "source": [
    "del(l2[4])"
   ]
  },
  {
   "cell_type": "code",
   "execution_count": 46,
   "id": "6ca2180a",
   "metadata": {},
   "outputs": [
    {
     "data": {
      "text/plain": [
       "[10, 30, 40, 50, 25, 17]"
      ]
     },
     "execution_count": 46,
     "metadata": {},
     "output_type": "execute_result"
    }
   ],
   "source": [
    "l2"
   ]
  },
  {
   "cell_type": "code",
   "execution_count": 47,
   "id": "d0302d42",
   "metadata": {},
   "outputs": [],
   "source": [
    "del(l2[1:3])"
   ]
  },
  {
   "cell_type": "code",
   "execution_count": 48,
   "id": "9ba9310a",
   "metadata": {},
   "outputs": [
    {
     "data": {
      "text/plain": [
       "[10, 50, 25, 17]"
      ]
     },
     "execution_count": 48,
     "metadata": {},
     "output_type": "execute_result"
    }
   ],
   "source": [
    "l2"
   ]
  },
  {
   "cell_type": "code",
   "execution_count": 49,
   "id": "f3d86cbe",
   "metadata": {},
   "outputs": [],
   "source": [
    "del(l2)"
   ]
  },
  {
   "cell_type": "code",
   "execution_count": 50,
   "id": "dbea1909",
   "metadata": {},
   "outputs": [
    {
     "ename": "NameError",
     "evalue": "name 'l2' is not defined",
     "output_type": "error",
     "traceback": [
      "\u001b[1;31m---------------------------------------------------------------------------\u001b[0m",
      "\u001b[1;31mNameError\u001b[0m                                 Traceback (most recent call last)",
      "\u001b[1;32m~\\AppData\\Local\\Temp\\ipykernel_10940\\2371406284.py\u001b[0m in \u001b[0;36m<module>\u001b[1;34m\u001b[0m\n\u001b[1;32m----> 1\u001b[1;33m \u001b[0ml2\u001b[0m\u001b[1;33m\u001b[0m\u001b[1;33m\u001b[0m\u001b[0m\n\u001b[0m",
      "\u001b[1;31mNameError\u001b[0m: name 'l2' is not defined"
     ]
    }
   ],
   "source": [
    "l2"
   ]
  },
  {
   "cell_type": "code",
   "execution_count": 51,
   "id": "d5439504",
   "metadata": {},
   "outputs": [],
   "source": [
    "l2 = [20,40,60,80,100,150]\n",
    "del(l2[:])"
   ]
  },
  {
   "cell_type": "code",
   "execution_count": 52,
   "id": "383e9395",
   "metadata": {},
   "outputs": [
    {
     "data": {
      "text/plain": [
       "[]"
      ]
     },
     "execution_count": 52,
     "metadata": {},
     "output_type": "execute_result"
    }
   ],
   "source": [
    "l2"
   ]
  },
  {
   "cell_type": "markdown",
   "id": "2df9da8d",
   "metadata": {},
   "source": [
    "    or"
   ]
  },
  {
   "cell_type": "code",
   "execution_count": 53,
   "id": "8062a715",
   "metadata": {},
   "outputs": [],
   "source": [
    "l2 = [20,40,60,80,100,150]\n",
    "l2.clear()"
   ]
  },
  {
   "cell_type": "code",
   "execution_count": 54,
   "id": "1fbbbb61",
   "metadata": {},
   "outputs": [
    {
     "data": {
      "text/plain": [
       "[]"
      ]
     },
     "execution_count": 54,
     "metadata": {},
     "output_type": "execute_result"
    }
   ],
   "source": [
    "l2"
   ]
  },
  {
   "cell_type": "code",
   "execution_count": 55,
   "id": "ef9b1e22",
   "metadata": {},
   "outputs": [],
   "source": [
    "l2= [25,35,45,55,65,75,25,55]\n",
    "l2.remove(25)"
   ]
  },
  {
   "cell_type": "code",
   "execution_count": 56,
   "id": "60f16c73",
   "metadata": {},
   "outputs": [
    {
     "data": {
      "text/plain": [
       "[35, 45, 55, 65, 75, 25, 55]"
      ]
     },
     "execution_count": 56,
     "metadata": {},
     "output_type": "execute_result"
    }
   ],
   "source": [
    "l2"
   ]
  },
  {
   "cell_type": "code",
   "execution_count": 57,
   "id": "b7fd9512",
   "metadata": {},
   "outputs": [
    {
     "data": {
      "text/plain": [
       "55"
      ]
     },
     "execution_count": 57,
     "metadata": {},
     "output_type": "execute_result"
    }
   ],
   "source": [
    "l2.pop()"
   ]
  },
  {
   "cell_type": "code",
   "execution_count": 58,
   "id": "dabb0dca",
   "metadata": {},
   "outputs": [
    {
     "data": {
      "text/plain": [
       "[35, 45, 55, 65, 75, 25]"
      ]
     },
     "execution_count": 58,
     "metadata": {},
     "output_type": "execute_result"
    }
   ],
   "source": [
    "l2"
   ]
  },
  {
   "cell_type": "code",
   "execution_count": 59,
   "id": "4040b9e0",
   "metadata": {},
   "outputs": [
    {
     "data": {
      "text/plain": [
       "55"
      ]
     },
     "execution_count": 59,
     "metadata": {},
     "output_type": "execute_result"
    }
   ],
   "source": [
    "l2.pop(2)"
   ]
  },
  {
   "cell_type": "code",
   "execution_count": 60,
   "id": "e9c9cfcc",
   "metadata": {},
   "outputs": [
    {
     "data": {
      "text/plain": [
       "[35, 45, 65, 75, 25]"
      ]
     },
     "execution_count": 60,
     "metadata": {},
     "output_type": "execute_result"
    }
   ],
   "source": [
    "l2"
   ]
  },
  {
   "cell_type": "code",
   "execution_count": 61,
   "id": "718bdad2",
   "metadata": {},
   "outputs": [],
   "source": [
    "l2.append(55)"
   ]
  },
  {
   "cell_type": "code",
   "execution_count": 62,
   "id": "2e1504ec",
   "metadata": {},
   "outputs": [
    {
     "data": {
      "text/plain": [
       "[35, 45, 65, 75, 25, 55]"
      ]
     },
     "execution_count": 62,
     "metadata": {},
     "output_type": "execute_result"
    }
   ],
   "source": [
    "l2"
   ]
  },
  {
   "cell_type": "code",
   "execution_count": 63,
   "id": "23e3a720",
   "metadata": {},
   "outputs": [],
   "source": [
    "l2.append('hello')"
   ]
  },
  {
   "cell_type": "code",
   "execution_count": 64,
   "id": "ed671d17",
   "metadata": {},
   "outputs": [
    {
     "data": {
      "text/plain": [
       "[35, 45, 65, 75, 25, 55, 'hello']"
      ]
     },
     "execution_count": 64,
     "metadata": {},
     "output_type": "execute_result"
    }
   ],
   "source": [
    "l2"
   ]
  },
  {
   "cell_type": "code",
   "execution_count": 65,
   "id": "546988a1",
   "metadata": {},
   "outputs": [],
   "source": [
    "l2.append([28,56,'hii'])"
   ]
  },
  {
   "cell_type": "code",
   "execution_count": 66,
   "id": "e7352544",
   "metadata": {},
   "outputs": [
    {
     "data": {
      "text/plain": [
       "[35, 45, 65, 75, 25, 55, 'hello', [28, 56, 'hii']]"
      ]
     },
     "execution_count": 66,
     "metadata": {},
     "output_type": "execute_result"
    }
   ],
   "source": [
    "l2"
   ]
  },
  {
   "cell_type": "code",
   "execution_count": 67,
   "id": "7ef57e05",
   "metadata": {},
   "outputs": [],
   "source": [
    "list1 = []"
   ]
  },
  {
   "cell_type": "code",
   "execution_count": 68,
   "id": "14418f89",
   "metadata": {},
   "outputs": [
    {
     "name": "stdout",
     "output_type": "stream",
     "text": [
      "[4, 8, 12, 16, 20]\n"
     ]
    }
   ],
   "source": [
    "for i in [2,4,6,8,10]:\n",
    "    list1.append(i*2)\n",
    "print(list1)"
   ]
  },
  {
   "cell_type": "markdown",
   "id": "c985b571",
   "metadata": {},
   "source": [
    "     or"
   ]
  },
  {
   "cell_type": "code",
   "execution_count": 69,
   "id": "a7538f8c",
   "metadata": {},
   "outputs": [
    {
     "name": "stdout",
     "output_type": "stream",
     "text": [
      "[4, 8, 12, 16, 20]\n"
     ]
    }
   ],
   "source": [
    "list1 = [i*2 for i in [2,4,6,8,10]]\n",
    "print(list1)"
   ]
  },
  {
   "cell_type": "code",
   "execution_count": 70,
   "id": "8af9cc71",
   "metadata": {},
   "outputs": [
    {
     "name": "stdout",
     "output_type": "stream",
     "text": [
      "[29, 49, 56, 100, 87, 43]\n"
     ]
    }
   ],
   "source": [
    "list1 = [29,49,56,87,43]\n",
    "list1.insert(3, 100)\n",
    "print(list1)"
   ]
  },
  {
   "cell_type": "code",
   "execution_count": 71,
   "id": "dc3521b7",
   "metadata": {},
   "outputs": [
    {
     "data": {
      "text/plain": [
       "[29, 12, 15, 89, 63, 42, 'hello', 'hii']"
      ]
     },
     "execution_count": 71,
     "metadata": {},
     "output_type": "execute_result"
    }
   ],
   "source": [
    "list1 = [29,12,15,89,63,42]\n",
    "list1.extend(['hello', 'hii'])\n",
    "list1"
   ]
  },
  {
   "cell_type": "code",
   "execution_count": 72,
   "id": "3d7e1717",
   "metadata": {},
   "outputs": [
    {
     "name": "stdout",
     "output_type": "stream",
     "text": [
      "['John', 'Alia', 'Pinky', 'Cherry', 'Kemberly']\n",
      "['Alia', 'Cherry', 'John', 'Kemberly', 'Pinky']\n"
     ]
    }
   ],
   "source": [
    "list1 = ['John', 'Alia', 'Pinky', 'Cherry', 'Kemberly']\n",
    "list2 = sorted(list1)\n",
    "print(list1)\n",
    "print(list2)"
   ]
  },
  {
   "cell_type": "code",
   "execution_count": 73,
   "id": "a2bff97e",
   "metadata": {},
   "outputs": [
    {
     "ename": "TypeError",
     "evalue": "'<' not supported between instances of 'int' and 'str'",
     "output_type": "error",
     "traceback": [
      "\u001b[1;31m---------------------------------------------------------------------------\u001b[0m",
      "\u001b[1;31mTypeError\u001b[0m                                 Traceback (most recent call last)",
      "\u001b[1;32m~\\AppData\\Local\\Temp\\ipykernel_10940\\956222926.py\u001b[0m in \u001b[0;36m<module>\u001b[1;34m\u001b[0m\n\u001b[0;32m      1\u001b[0m \u001b[0mlist1\u001b[0m\u001b[1;33m=\u001b[0m \u001b[1;33m[\u001b[0m\u001b[1;34m'John'\u001b[0m\u001b[1;33m,\u001b[0m \u001b[1;34m'Alia'\u001b[0m\u001b[1;33m,\u001b[0m \u001b[1;34m'Pinky'\u001b[0m\u001b[1;33m,\u001b[0m \u001b[1;36m10\u001b[0m\u001b[1;33m,\u001b[0m \u001b[1;36m40\u001b[0m\u001b[1;33m,\u001b[0m \u001b[1;36m90\u001b[0m\u001b[1;33m,\u001b[0m \u001b[1;34m'Cherry'\u001b[0m\u001b[1;33m,\u001b[0m \u001b[1;34m'Kemberly'\u001b[0m\u001b[1;33m,\u001b[0m \u001b[1;34m'10'\u001b[0m\u001b[1;33m,\u001b[0m \u001b[1;34m'50'\u001b[0m\u001b[1;33m]\u001b[0m\u001b[1;33m\u001b[0m\u001b[1;33m\u001b[0m\u001b[0m\n\u001b[1;32m----> 2\u001b[1;33m \u001b[0mlist2\u001b[0m \u001b[1;33m=\u001b[0m \u001b[0msorted\u001b[0m\u001b[1;33m(\u001b[0m\u001b[0mlist1\u001b[0m\u001b[1;33m)\u001b[0m\u001b[1;33m\u001b[0m\u001b[1;33m\u001b[0m\u001b[0m\n\u001b[0m",
      "\u001b[1;31mTypeError\u001b[0m: '<' not supported between instances of 'int' and 'str'"
     ]
    }
   ],
   "source": [
    "list1= ['John', 'Alia', 'Pinky', 10, 40, 90, 'Cherry', 'Kemberly', '10', '50']\n",
    "list2 = sorted(list1)"
   ]
  },
  {
   "cell_type": "code",
   "execution_count": 74,
   "id": "bc66bd9c",
   "metadata": {},
   "outputs": [],
   "source": [
    "list1= ['John', 'Alia', 'Pinky', 'Cherry', 'Kemberly', '10', '50']\n",
    "list2 = sorted(list1)"
   ]
  },
  {
   "cell_type": "code",
   "execution_count": 75,
   "id": "63eaf982",
   "metadata": {},
   "outputs": [
    {
     "name": "stdout",
     "output_type": "stream",
     "text": [
      "['John', 'Alia', 'Pinky', 'Cherry', 'Kemberly', '10', '50']\n",
      "['10', '50', 'Alia', 'Cherry', 'John', 'Kemberly', 'Pinky']\n"
     ]
    }
   ],
   "source": [
    "print(list1)\n",
    "print(list2)"
   ]
  },
  {
   "cell_type": "code",
   "execution_count": 76,
   "id": "22356b0f",
   "metadata": {},
   "outputs": [
    {
     "name": "stdout",
     "output_type": "stream",
     "text": [
      "None\n"
     ]
    }
   ],
   "source": [
    "a = [20,60,98,53,15,30,56,89]\n",
    "print(a.sort())"
   ]
  },
  {
   "cell_type": "code",
   "execution_count": 77,
   "id": "8b98276c",
   "metadata": {},
   "outputs": [
    {
     "name": "stdout",
     "output_type": "stream",
     "text": [
      "[15, 20, 30, 53, 56, 60, 89, 98]\n",
      "None\n"
     ]
    }
   ],
   "source": [
    "sorta = a.sort()\n",
    "print(a)\n",
    "print(sorta)"
   ]
  },
  {
   "cell_type": "code",
   "execution_count": 78,
   "id": "52201053",
   "metadata": {},
   "outputs": [
    {
     "data": {
      "text/plain": [
       "['John', 'Alia', 'Pinky', 'Cherry', 'Kemberly', '10', '50']"
      ]
     },
     "execution_count": 78,
     "metadata": {},
     "output_type": "execute_result"
    }
   ],
   "source": [
    "list1"
   ]
  },
  {
   "cell_type": "code",
   "execution_count": 79,
   "id": "e24693d0",
   "metadata": {},
   "outputs": [
    {
     "name": "stdout",
     "output_type": "stream",
     "text": [
      "['50', '10', 'Kemberly', 'Cherry', 'Pinky', 'Alia', 'John']\n"
     ]
    }
   ],
   "source": [
    "print(list1[::-1])"
   ]
  },
  {
   "cell_type": "code",
   "execution_count": 80,
   "id": "8c7b764d",
   "metadata": {},
   "outputs": [
    {
     "name": "stdout",
     "output_type": "stream",
     "text": [
      "['10', 'Kemberly', 'Cherry']\n"
     ]
    }
   ],
   "source": [
    "print(list1[5:2:-1])"
   ]
  },
  {
   "cell_type": "code",
   "execution_count": 81,
   "id": "2131e773",
   "metadata": {},
   "outputs": [],
   "source": [
    "weeks = ['sunday','monday','tuesday','wednesday','thursday','friday','saturday']"
   ]
  },
  {
   "cell_type": "code",
   "execution_count": 82,
   "id": "2c285be7",
   "metadata": {},
   "outputs": [
    {
     "data": {
      "text/plain": [
       "'sunday'"
      ]
     },
     "execution_count": 82,
     "metadata": {},
     "output_type": "execute_result"
    }
   ],
   "source": [
    "first_day = weeks[0]\n",
    "first_day"
   ]
  },
  {
   "cell_type": "code",
   "execution_count": 83,
   "id": "ec218cea",
   "metadata": {},
   "outputs": [
    {
     "data": {
      "text/plain": [
       "'saturday'"
      ]
     },
     "execution_count": 83,
     "metadata": {},
     "output_type": "execute_result"
    }
   ],
   "source": [
    "last_day = weeks[-1]\n",
    "last_day"
   ]
  },
  {
   "cell_type": "code",
   "execution_count": 84,
   "id": "f8dd11f6",
   "metadata": {},
   "outputs": [
    {
     "name": "stdout",
     "output_type": "stream",
     "text": [
      "['sunday', 'monday', 'tuesday', 'thursday', 'friday', 'saturday']\n"
     ]
    }
   ],
   "source": [
    "weeks.remove('wednesday')\n",
    "print(weeks)"
   ]
  },
  {
   "cell_type": "code",
   "execution_count": 85,
   "id": "10c9828b",
   "metadata": {},
   "outputs": [
    {
     "data": {
      "text/plain": [
       "12"
      ]
     },
     "execution_count": 85,
     "metadata": {},
     "output_type": "execute_result"
    }
   ],
   "source": [
    "numbers = [49,84,67,32,45,12,90,18]\n",
    "min_number = min(numbers)\n",
    "min_number"
   ]
  },
  {
   "cell_type": "code",
   "execution_count": 86,
   "id": "25babf74",
   "metadata": {},
   "outputs": [
    {
     "data": {
      "text/plain": [
       "90"
      ]
     },
     "execution_count": 86,
     "metadata": {},
     "output_type": "execute_result"
    }
   ],
   "source": [
    "numbers = [49,84,67,32,45,12,90,18]\n",
    "max_number = max(numbers)\n",
    "max_number"
   ]
  },
  {
   "cell_type": "code",
   "execution_count": 87,
   "id": "1a74f51c",
   "metadata": {},
   "outputs": [
    {
     "data": {
      "text/plain": [
       "397"
      ]
     },
     "execution_count": 87,
     "metadata": {},
     "output_type": "execute_result"
    }
   ],
   "source": [
    "numbers = [49,84,67,32,45,12,90,18]\n",
    "numbers_sum = sum(numbers)\n",
    "numbers_sum"
   ]
  },
  {
   "cell_type": "code",
   "execution_count": 88,
   "id": "9eade1ad",
   "metadata": {},
   "outputs": [
    {
     "name": "stdout",
     "output_type": "stream",
     "text": [
      "[1, 4, 9, 16, 25]\n"
     ]
    }
   ],
   "source": [
    "squares = []\n",
    "for i in range(1,6):\n",
    "    s = i ** 2\n",
    "    squares.append(s)\n",
    "print(squares)"
   ]
  },
  {
   "cell_type": "markdown",
   "id": "30a38559",
   "metadata": {},
   "source": [
    "          or"
   ]
  },
  {
   "cell_type": "code",
   "execution_count": 89,
   "id": "cd01b718",
   "metadata": {},
   "outputs": [
    {
     "name": "stdout",
     "output_type": "stream",
     "text": [
      "[1, 4, 9, 16, 25]\n"
     ]
    }
   ],
   "source": [
    "squares = [i ** 2 for i in range(1,6)]\n",
    "print(squares)"
   ]
  },
  {
   "cell_type": "code",
   "execution_count": 90,
   "id": "cf9253ea",
   "metadata": {},
   "outputs": [
    {
     "name": "stdout",
     "output_type": "stream",
     "text": [
      "['SUNDAY', 'MONDAY', 'TUESDAY', 'WEDNESDAY', 'THURSDAY', 'FRIDAY', 'SATURDAY']\n"
     ]
    }
   ],
   "source": [
    "weeks = ['sunday','monday','tuesday','wednesday','thursday','friday','saturday']\n",
    "WEEKS = []\n",
    "for day in weeks:\n",
    "    WEEKS.append(day.upper())\n",
    "print(WEEKS)"
   ]
  },
  {
   "cell_type": "markdown",
   "id": "bfce6efc",
   "metadata": {},
   "source": [
    "         or"
   ]
  },
  {
   "cell_type": "code",
   "execution_count": 91,
   "id": "52eafd26",
   "metadata": {},
   "outputs": [
    {
     "name": "stdout",
     "output_type": "stream",
     "text": [
      "['SUNDAY', 'MONDAY', 'TUESDAY', 'WEDNESDAY', 'THURSDAY', 'FRIDAY', 'SATURDAY']\n"
     ]
    }
   ],
   "source": [
    "weeks = ['sunday','monday','tuesday','wednesday','thursday','friday','saturday']\n",
    "WEEKS = [Weeks.upper() for Weeks in weeks]\n",
    "print(WEEKS)"
   ]
  },
  {
   "cell_type": "code",
   "execution_count": 92,
   "id": "115bfae8",
   "metadata": {},
   "outputs": [
    {
     "name": "stdout",
     "output_type": "stream",
     "text": [
      "[(1, 6, 9), ('A', 'B', 'C', 'd')]\n"
     ]
    },
    {
     "data": {
      "text/plain": [
       "2"
      ]
     },
     "execution_count": 92,
     "metadata": {},
     "output_type": "execute_result"
    }
   ],
   "source": [
    "list2 = [(1,6,9), ('A', 'B', 'C', 'd')]\n",
    "print(list2)\n",
    "len(list2)"
   ]
  },
  {
   "cell_type": "code",
   "execution_count": 93,
   "id": "15901404",
   "metadata": {},
   "outputs": [
    {
     "name": "stdout",
     "output_type": "stream",
     "text": [
      "4\n"
     ]
    }
   ],
   "source": [
    "print(len(list2[1]))"
   ]
  },
  {
   "cell_type": "code",
   "execution_count": 94,
   "id": "bf1c1af9",
   "metadata": {},
   "outputs": [
    {
     "name": "stdout",
     "output_type": "stream",
     "text": [
      "3\n"
     ]
    }
   ],
   "source": [
    "print(len(list2[0]))"
   ]
  },
  {
   "cell_type": "code",
   "execution_count": 95,
   "id": "9aa116c1",
   "metadata": {},
   "outputs": [
    {
     "data": {
      "text/plain": [
       "['__add__',\n",
       " '__class__',\n",
       " '__class_getitem__',\n",
       " '__contains__',\n",
       " '__delattr__',\n",
       " '__delitem__',\n",
       " '__dir__',\n",
       " '__doc__',\n",
       " '__eq__',\n",
       " '__format__',\n",
       " '__ge__',\n",
       " '__getattribute__',\n",
       " '__getitem__',\n",
       " '__gt__',\n",
       " '__hash__',\n",
       " '__iadd__',\n",
       " '__imul__',\n",
       " '__init__',\n",
       " '__init_subclass__',\n",
       " '__iter__',\n",
       " '__le__',\n",
       " '__len__',\n",
       " '__lt__',\n",
       " '__mul__',\n",
       " '__ne__',\n",
       " '__new__',\n",
       " '__reduce__',\n",
       " '__reduce_ex__',\n",
       " '__repr__',\n",
       " '__reversed__',\n",
       " '__rmul__',\n",
       " '__setattr__',\n",
       " '__setitem__',\n",
       " '__sizeof__',\n",
       " '__str__',\n",
       " '__subclasshook__',\n",
       " 'append',\n",
       " 'clear',\n",
       " 'copy',\n",
       " 'count',\n",
       " 'extend',\n",
       " 'index',\n",
       " 'insert',\n",
       " 'pop',\n",
       " 'remove',\n",
       " 'reverse',\n",
       " 'sort']"
      ]
     },
     "execution_count": 95,
     "metadata": {},
     "output_type": "execute_result"
    }
   ],
   "source": [
    "dir(list)"
   ]
  },
  {
   "cell_type": "markdown",
   "id": "40e73804",
   "metadata": {},
   "source": [
    "# Tuple:"
   ]
  },
  {
   "cell_type": "code",
   "execution_count": 96,
   "id": "d04e16d9",
   "metadata": {},
   "outputs": [
    {
     "name": "stdout",
     "output_type": "stream",
     "text": [
      "8\n",
      "R\n",
      "d\n"
     ]
    }
   ],
   "source": [
    "t1 = (6,9,10,'a', 'hello', 'hii',2,8)\n",
    "t2 = ('d','V','R')\n",
    "print(len(t1))\n",
    "print(min(t2))\n",
    "print(max(t2))"
   ]
  },
  {
   "cell_type": "code",
   "execution_count": 97,
   "id": "a075dd00",
   "metadata": {},
   "outputs": [
    {
     "data": {
      "text/plain": [
       "(6, 9, 10, 'a', 'hello', 'hii', 2, 8)"
      ]
     },
     "execution_count": 97,
     "metadata": {},
     "output_type": "execute_result"
    }
   ],
   "source": [
    "t1"
   ]
  },
  {
   "cell_type": "code",
   "execution_count": 98,
   "id": "3017a8b0",
   "metadata": {},
   "outputs": [
    {
     "name": "stdout",
     "output_type": "stream",
     "text": [
      "(6, 9, 10, 'a', 'hello', 'hii', 2, 8, 6, 9, 10, 'a', 'hello', 'hii', 2, 8)\n"
     ]
    }
   ],
   "source": [
    "print(t1*2)"
   ]
  },
  {
   "cell_type": "code",
   "execution_count": 99,
   "id": "321ce684",
   "metadata": {},
   "outputs": [
    {
     "name": "stdout",
     "output_type": "stream",
     "text": [
      "True\n"
     ]
    }
   ],
   "source": [
    "print('a' in t1)"
   ]
  },
  {
   "cell_type": "code",
   "execution_count": 100,
   "id": "4daec480",
   "metadata": {},
   "outputs": [
    {
     "name": "stdout",
     "output_type": "stream",
     "text": [
      "<class 'tuple'>\n"
     ]
    }
   ],
   "source": [
    "t2 = (20,50,90,48)\n",
    "print(type(t2))"
   ]
  },
  {
   "cell_type": "code",
   "execution_count": 101,
   "id": "3dcea0d5",
   "metadata": {},
   "outputs": [
    {
     "data": {
      "text/plain": [
       "(20, 50, 90, 48)"
      ]
     },
     "execution_count": 101,
     "metadata": {},
     "output_type": "execute_result"
    }
   ],
   "source": [
    "t3 = t2[:4]\n",
    "t3"
   ]
  },
  {
   "cell_type": "code",
   "execution_count": 102,
   "id": "e8b49d05",
   "metadata": {},
   "outputs": [
    {
     "data": {
      "text/plain": [
       "(48, 48, 48)"
      ]
     },
     "execution_count": 102,
     "metadata": {},
     "output_type": "execute_result"
    }
   ],
   "source": [
    "t4 = t2[3:]*3\n",
    "t4"
   ]
  },
  {
   "cell_type": "code",
   "execution_count": 103,
   "id": "d0d9403e",
   "metadata": {},
   "outputs": [
    {
     "data": {
      "text/plain": [
       "(20, 50, 90, 48, 48, 48, 48)"
      ]
     },
     "execution_count": 103,
     "metadata": {},
     "output_type": "execute_result"
    }
   ],
   "source": [
    "t2 = t3 + t4\n",
    "t2"
   ]
  },
  {
   "cell_type": "code",
   "execution_count": 104,
   "id": "0646ca5b",
   "metadata": {},
   "outputs": [],
   "source": [
    "del(t2)"
   ]
  },
  {
   "cell_type": "code",
   "execution_count": 105,
   "id": "310751d3",
   "metadata": {},
   "outputs": [
    {
     "ename": "NameError",
     "evalue": "name 't2' is not defined",
     "output_type": "error",
     "traceback": [
      "\u001b[1;31m---------------------------------------------------------------------------\u001b[0m",
      "\u001b[1;31mNameError\u001b[0m                                 Traceback (most recent call last)",
      "\u001b[1;32m~\\AppData\\Local\\Temp\\ipykernel_10940\\2995953478.py\u001b[0m in \u001b[0;36m<module>\u001b[1;34m\u001b[0m\n\u001b[1;32m----> 1\u001b[1;33m \u001b[0mt2\u001b[0m\u001b[1;33m\u001b[0m\u001b[1;33m\u001b[0m\u001b[0m\n\u001b[0m",
      "\u001b[1;31mNameError\u001b[0m: name 't2' is not defined"
     ]
    }
   ],
   "source": [
    "t2"
   ]
  },
  {
   "cell_type": "code",
   "execution_count": 106,
   "id": "2a3ff4a1",
   "metadata": {},
   "outputs": [
    {
     "ename": "NameError",
     "evalue": "name 't2' is not defined",
     "output_type": "error",
     "traceback": [
      "\u001b[1;31m---------------------------------------------------------------------------\u001b[0m",
      "\u001b[1;31mNameError\u001b[0m                                 Traceback (most recent call last)",
      "\u001b[1;32m~\\AppData\\Local\\Temp\\ipykernel_10940\\2971473964.py\u001b[0m in \u001b[0;36m<module>\u001b[1;34m\u001b[0m\n\u001b[1;32m----> 1\u001b[1;33m \u001b[0mt2\u001b[0m\u001b[1;33m.\u001b[0m\u001b[0mclear\u001b[0m\u001b[1;33m(\u001b[0m\u001b[1;33m)\u001b[0m\u001b[1;33m\u001b[0m\u001b[1;33m\u001b[0m\u001b[0m\n\u001b[0m",
      "\u001b[1;31mNameError\u001b[0m: name 't2' is not defined"
     ]
    }
   ],
   "source": [
    "t2.clear()"
   ]
  },
  {
   "cell_type": "code",
   "execution_count": 107,
   "id": "d44647a6",
   "metadata": {},
   "outputs": [
    {
     "data": {
      "text/plain": [
       "144"
      ]
     },
     "execution_count": 107,
     "metadata": {},
     "output_type": "execute_result"
    }
   ],
   "source": [
    "t2 = (45,78,93,144,53)\n",
    "t2[3]"
   ]
  },
  {
   "cell_type": "code",
   "execution_count": 108,
   "id": "2f67f46c",
   "metadata": {},
   "outputs": [
    {
     "ename": "TypeError",
     "evalue": "'tuple' object does not support item assignment",
     "output_type": "error",
     "traceback": [
      "\u001b[1;31m---------------------------------------------------------------------------\u001b[0m",
      "\u001b[1;31mTypeError\u001b[0m                                 Traceback (most recent call last)",
      "\u001b[1;32m~\\AppData\\Local\\Temp\\ipykernel_10940\\3509333538.py\u001b[0m in \u001b[0;36m<module>\u001b[1;34m\u001b[0m\n\u001b[0;32m      1\u001b[0m \u001b[0mt2\u001b[0m \u001b[1;33m=\u001b[0m \u001b[1;33m(\u001b[0m\u001b[1;36m45\u001b[0m\u001b[1;33m,\u001b[0m\u001b[1;36m78\u001b[0m\u001b[1;33m,\u001b[0m\u001b[1;36m93\u001b[0m\u001b[1;33m,\u001b[0m\u001b[1;36m144\u001b[0m\u001b[1;33m,\u001b[0m\u001b[1;36m53\u001b[0m\u001b[1;33m)\u001b[0m\u001b[1;33m\u001b[0m\u001b[1;33m\u001b[0m\u001b[0m\n\u001b[1;32m----> 2\u001b[1;33m \u001b[0mt2\u001b[0m\u001b[1;33m[\u001b[0m\u001b[1;36m3\u001b[0m\u001b[1;33m]\u001b[0m \u001b[1;33m=\u001b[0m \u001b[1;36m50\u001b[0m\u001b[1;33m\u001b[0m\u001b[1;33m\u001b[0m\u001b[0m\n\u001b[0m",
      "\u001b[1;31mTypeError\u001b[0m: 'tuple' object does not support item assignment"
     ]
    }
   ],
   "source": [
    "t2 = (45,78,93,144,53)\n",
    "t2[3] = 50"
   ]
  },
  {
   "cell_type": "code",
   "execution_count": 109,
   "id": "d45ca133",
   "metadata": {},
   "outputs": [
    {
     "data": {
      "text/plain": [
       "(45, 78, 93, 144, 53)"
      ]
     },
     "execution_count": 109,
     "metadata": {},
     "output_type": "execute_result"
    }
   ],
   "source": [
    "t2"
   ]
  },
  {
   "cell_type": "code",
   "execution_count": 110,
   "id": "0b7609ea",
   "metadata": {},
   "outputs": [
    {
     "name": "stdout",
     "output_type": "stream",
     "text": [
      "<class 'tuple'>\n"
     ]
    }
   ],
   "source": [
    "t5 = ([45,78,94,31], 89, 43, 12)\n",
    "print(type(t5))"
   ]
  },
  {
   "cell_type": "code",
   "execution_count": 111,
   "id": "681c9d20",
   "metadata": {},
   "outputs": [
    {
     "data": {
      "text/plain": [
       "43"
      ]
     },
     "execution_count": 111,
     "metadata": {},
     "output_type": "execute_result"
    }
   ],
   "source": [
    "t5[2]"
   ]
  },
  {
   "cell_type": "code",
   "execution_count": 112,
   "id": "5ac5b98e",
   "metadata": {},
   "outputs": [
    {
     "data": {
      "text/plain": [
       "89"
      ]
     },
     "execution_count": 112,
     "metadata": {},
     "output_type": "execute_result"
    }
   ],
   "source": [
    "t5[1]"
   ]
  },
  {
   "cell_type": "code",
   "execution_count": 113,
   "id": "6fd8980f",
   "metadata": {},
   "outputs": [
    {
     "ename": "TypeError",
     "evalue": "'tuple' object does not support item assignment",
     "output_type": "error",
     "traceback": [
      "\u001b[1;31m---------------------------------------------------------------------------\u001b[0m",
      "\u001b[1;31mTypeError\u001b[0m                                 Traceback (most recent call last)",
      "\u001b[1;32m~\\AppData\\Local\\Temp\\ipykernel_10940\\1781252764.py\u001b[0m in \u001b[0;36m<module>\u001b[1;34m\u001b[0m\n\u001b[1;32m----> 1\u001b[1;33m \u001b[0mt5\u001b[0m\u001b[1;33m[\u001b[0m\u001b[1;36m3\u001b[0m\u001b[1;33m]\u001b[0m \u001b[1;33m=\u001b[0m \u001b[1;36m34\u001b[0m\u001b[1;33m\u001b[0m\u001b[1;33m\u001b[0m\u001b[0m\n\u001b[0m\u001b[0;32m      2\u001b[0m \u001b[0mprint\u001b[0m\u001b[1;33m(\u001b[0m\u001b[0mt5\u001b[0m\u001b[1;33m)\u001b[0m\u001b[1;33m\u001b[0m\u001b[1;33m\u001b[0m\u001b[0m\n",
      "\u001b[1;31mTypeError\u001b[0m: 'tuple' object does not support item assignment"
     ]
    }
   ],
   "source": [
    "t5[3] = 34\n",
    "print(t5)"
   ]
  },
  {
   "cell_type": "code",
   "execution_count": 114,
   "id": "2f5ced18",
   "metadata": {},
   "outputs": [
    {
     "data": {
      "text/plain": [
       "[45, 78, 94, 31]"
      ]
     },
     "execution_count": 114,
     "metadata": {},
     "output_type": "execute_result"
    }
   ],
   "source": [
    "t5[0]"
   ]
  },
  {
   "cell_type": "code",
   "execution_count": 115,
   "id": "fa33a5b3",
   "metadata": {},
   "outputs": [
    {
     "data": {
      "text/plain": [
       "94"
      ]
     },
     "execution_count": 115,
     "metadata": {},
     "output_type": "execute_result"
    }
   ],
   "source": [
    "t5[0][2]"
   ]
  },
  {
   "cell_type": "code",
   "execution_count": 116,
   "id": "d967886a",
   "metadata": {},
   "outputs": [
    {
     "name": "stdout",
     "output_type": "stream",
     "text": [
      "([45, 78, 35, 31], 89, 43, 12)\n",
      "\n",
      "<class 'tuple'>\n"
     ]
    }
   ],
   "source": [
    "t5[0][2] = 35\n",
    "print(t5)\n",
    "print()\n",
    "print(type(t5))"
   ]
  },
  {
   "cell_type": "code",
   "execution_count": 117,
   "id": "b63ee6ff",
   "metadata": {},
   "outputs": [],
   "source": [
    "t5[0].append(60)"
   ]
  },
  {
   "cell_type": "code",
   "execution_count": 118,
   "id": "adfc6458",
   "metadata": {},
   "outputs": [
    {
     "data": {
      "text/plain": [
       "([45, 78, 35, 31, 60], 89, 43, 12)"
      ]
     },
     "execution_count": 118,
     "metadata": {},
     "output_type": "execute_result"
    }
   ],
   "source": [
    "t5"
   ]
  },
  {
   "cell_type": "code",
   "execution_count": 119,
   "id": "ffbee6c3",
   "metadata": {},
   "outputs": [
    {
     "ename": "AttributeError",
     "evalue": "'int' object has no attribute 'append'",
     "output_type": "error",
     "traceback": [
      "\u001b[1;31m---------------------------------------------------------------------------\u001b[0m",
      "\u001b[1;31mAttributeError\u001b[0m                            Traceback (most recent call last)",
      "\u001b[1;32m~\\AppData\\Local\\Temp\\ipykernel_10940\\1906563092.py\u001b[0m in \u001b[0;36m<module>\u001b[1;34m\u001b[0m\n\u001b[1;32m----> 1\u001b[1;33m \u001b[0mt5\u001b[0m\u001b[1;33m[\u001b[0m\u001b[1;36m1\u001b[0m\u001b[1;33m]\u001b[0m\u001b[1;33m.\u001b[0m\u001b[0mappend\u001b[0m\u001b[1;33m(\u001b[0m\u001b[1;36m55\u001b[0m\u001b[1;33m)\u001b[0m\u001b[1;33m\u001b[0m\u001b[1;33m\u001b[0m\u001b[0m\n\u001b[0m\u001b[0;32m      2\u001b[0m \u001b[0mt5\u001b[0m\u001b[1;33m\u001b[0m\u001b[1;33m\u001b[0m\u001b[0m\n",
      "\u001b[1;31mAttributeError\u001b[0m: 'int' object has no attribute 'append'"
     ]
    }
   ],
   "source": [
    "t5[1].append(55)\n",
    "t5"
   ]
  },
  {
   "cell_type": "code",
   "execution_count": 120,
   "id": "845f16b5",
   "metadata": {},
   "outputs": [
    {
     "name": "stdout",
     "output_type": "stream",
     "text": [
      "([6, 7, 9, 31], [45, 90, 82, 13], 87, 90, 'hi', 'hello')\n",
      "\n",
      "<class 'tuple'>\n",
      "\n",
      "<class 'list'>\n",
      "\n"
     ]
    },
    {
     "ename": "TypeError",
     "evalue": "'tuple' object does not support item assignment",
     "output_type": "error",
     "traceback": [
      "\u001b[1;31m---------------------------------------------------------------------------\u001b[0m",
      "\u001b[1;31mTypeError\u001b[0m                                 Traceback (most recent call last)",
      "\u001b[1;32m~\\AppData\\Local\\Temp\\ipykernel_10940\\754736454.py\u001b[0m in \u001b[0;36m<module>\u001b[1;34m\u001b[0m\n\u001b[0;32m      6\u001b[0m \u001b[0mprint\u001b[0m\u001b[1;33m(\u001b[0m\u001b[0mtype\u001b[0m\u001b[1;33m(\u001b[0m\u001b[0mt6\u001b[0m\u001b[1;33m[\u001b[0m\u001b[1;36m1\u001b[0m\u001b[1;33m]\u001b[0m\u001b[1;33m)\u001b[0m\u001b[1;33m)\u001b[0m\u001b[1;33m\u001b[0m\u001b[1;33m\u001b[0m\u001b[0m\n\u001b[0;32m      7\u001b[0m \u001b[0mprint\u001b[0m\u001b[1;33m(\u001b[0m\u001b[1;33m)\u001b[0m\u001b[1;33m\u001b[0m\u001b[1;33m\u001b[0m\u001b[0m\n\u001b[1;32m----> 8\u001b[1;33m \u001b[0mt6\u001b[0m\u001b[1;33m[\u001b[0m\u001b[1;36m1\u001b[0m\u001b[1;33m]\u001b[0m \u001b[1;33m=\u001b[0m \u001b[1;33m[\u001b[0m\u001b[1;36m90\u001b[0m\u001b[1;33m,\u001b[0m\u001b[1;36m65\u001b[0m\u001b[1;33m,\u001b[0m\u001b[1;36m23\u001b[0m\u001b[1;33m]\u001b[0m\u001b[1;33m\u001b[0m\u001b[1;33m\u001b[0m\u001b[0m\n\u001b[0m\u001b[0;32m      9\u001b[0m \u001b[0mt6\u001b[0m\u001b[1;33m[\u001b[0m\u001b[1;36m1\u001b[0m\u001b[1;33m]\u001b[0m\u001b[1;33m[\u001b[0m\u001b[1;36m1\u001b[0m\u001b[1;33m]\u001b[0m \u001b[1;33m=\u001b[0m \u001b[1;33m[\u001b[0m\u001b[1;36m12\u001b[0m\u001b[1;33m,\u001b[0m\u001b[1;36m34\u001b[0m\u001b[1;33m,\u001b[0m\u001b[1;36m78\u001b[0m\u001b[1;33m]\u001b[0m\u001b[1;33m\u001b[0m\u001b[1;33m\u001b[0m\u001b[0m\n\u001b[0;32m     10\u001b[0m \u001b[0mprint\u001b[0m\u001b[1;33m(\u001b[0m\u001b[0mt6\u001b[0m\u001b[1;33m)\u001b[0m\u001b[1;33m\u001b[0m\u001b[1;33m\u001b[0m\u001b[0m\n",
      "\u001b[1;31mTypeError\u001b[0m: 'tuple' object does not support item assignment"
     ]
    }
   ],
   "source": [
    "t6 = ([6,7,9,31], [45,90,82,13], 87,90, 'hi', 'hello')\n",
    "print(t6)\n",
    "print()\n",
    "print(type(t6))\n",
    "print()\n",
    "print(type(t6[1]))\n",
    "print()\n",
    "t6[1] = [90,65,23]\n",
    "t6[1][1] = [12,34,78]\n",
    "print(t6)"
   ]
  },
  {
   "cell_type": "code",
   "execution_count": 121,
   "id": "f5c62394",
   "metadata": {},
   "outputs": [
    {
     "ename": "TypeError",
     "evalue": "'tuple' object does not support item assignment",
     "output_type": "error",
     "traceback": [
      "\u001b[1;31m---------------------------------------------------------------------------\u001b[0m",
      "\u001b[1;31mTypeError\u001b[0m                                 Traceback (most recent call last)",
      "\u001b[1;32m~\\AppData\\Local\\Temp\\ipykernel_10940\\3819038285.py\u001b[0m in \u001b[0;36m<module>\u001b[1;34m\u001b[0m\n\u001b[1;32m----> 1\u001b[1;33m \u001b[0mt6\u001b[0m\u001b[1;33m[\u001b[0m\u001b[1;36m4\u001b[0m\u001b[1;33m]\u001b[0m \u001b[1;33m=\u001b[0m \u001b[1;36m78\u001b[0m\u001b[1;33m\u001b[0m\u001b[1;33m\u001b[0m\u001b[0m\n\u001b[0m\u001b[0;32m      2\u001b[0m \u001b[0mt6\u001b[0m\u001b[1;33m\u001b[0m\u001b[1;33m\u001b[0m\u001b[0m\n",
      "\u001b[1;31mTypeError\u001b[0m: 'tuple' object does not support item assignment"
     ]
    }
   ],
   "source": [
    "t6[4] = 78\n",
    "t6"
   ]
  },
  {
   "cell_type": "code",
   "execution_count": 122,
   "id": "92e9b3c2",
   "metadata": {},
   "outputs": [
    {
     "data": {
      "text/plain": [
       "[[6, 7, 9, 31], [45, 90, 82, 13], 87, 90, 'hi', 'hello']"
      ]
     },
     "execution_count": 122,
     "metadata": {},
     "output_type": "execute_result"
    }
   ],
   "source": [
    "l1 = list(t6)\n",
    "l1"
   ]
  },
  {
   "cell_type": "code",
   "execution_count": 123,
   "id": "c46c8783",
   "metadata": {},
   "outputs": [
    {
     "data": {
      "text/plain": [
       "[[6, 7, 9, 31], [45, 90, 82, 13], 87, 90, 78, 'hello']"
      ]
     },
     "execution_count": 123,
     "metadata": {},
     "output_type": "execute_result"
    }
   ],
   "source": [
    "l1[4] = 78\n",
    "l1"
   ]
  },
  {
   "cell_type": "code",
   "execution_count": 124,
   "id": "d987ceee",
   "metadata": {},
   "outputs": [
    {
     "data": {
      "text/plain": [
       "([6, 7, 9, 31], [45, 90, 82, 13], 87, 90, 78, 'hello')"
      ]
     },
     "execution_count": 124,
     "metadata": {},
     "output_type": "execute_result"
    }
   ],
   "source": [
    "t6 = tuple(l1)\n",
    "t6"
   ]
  },
  {
   "cell_type": "code",
   "execution_count": 125,
   "id": "096e2583",
   "metadata": {},
   "outputs": [
    {
     "data": {
      "text/plain": [
       "[18, 34, 56, 90]"
      ]
     },
     "execution_count": 125,
     "metadata": {},
     "output_type": "execute_result"
    }
   ],
   "source": [
    "a = [18,90,34,56]\n",
    "sorted(a)"
   ]
  },
  {
   "cell_type": "code",
   "execution_count": 126,
   "id": "678ae24b",
   "metadata": {},
   "outputs": [
    {
     "name": "stdout",
     "output_type": "stream",
     "text": [
      "[18, 90, 34, 56]\n",
      "[18, 34, 56, 90]\n"
     ]
    }
   ],
   "source": [
    "a = [18,90,34,56]\n",
    "b = sorted(a)\n",
    "print(a)\n",
    "print(b)"
   ]
  },
  {
   "cell_type": "code",
   "execution_count": 127,
   "id": "70ef3678",
   "metadata": {},
   "outputs": [
    {
     "data": {
      "text/plain": [
       "[18, 90, 34, 56]"
      ]
     },
     "execution_count": 127,
     "metadata": {},
     "output_type": "execute_result"
    }
   ],
   "source": [
    "a "
   ]
  },
  {
   "cell_type": "code",
   "execution_count": 128,
   "id": "7e6e11fe",
   "metadata": {},
   "outputs": [
    {
     "name": "stdout",
     "output_type": "stream",
     "text": [
      "[18, 34, 56, 90]\n"
     ]
    }
   ],
   "source": [
    "a.sort()\n",
    "print(a)"
   ]
  },
  {
   "cell_type": "code",
   "execution_count": 129,
   "id": "5e28a082",
   "metadata": {},
   "outputs": [
    {
     "data": {
      "text/plain": [
       "['__add__',\n",
       " '__class__',\n",
       " '__class_getitem__',\n",
       " '__contains__',\n",
       " '__delattr__',\n",
       " '__dir__',\n",
       " '__doc__',\n",
       " '__eq__',\n",
       " '__format__',\n",
       " '__ge__',\n",
       " '__getattribute__',\n",
       " '__getitem__',\n",
       " '__getnewargs__',\n",
       " '__gt__',\n",
       " '__hash__',\n",
       " '__init__',\n",
       " '__init_subclass__',\n",
       " '__iter__',\n",
       " '__le__',\n",
       " '__len__',\n",
       " '__lt__',\n",
       " '__mul__',\n",
       " '__ne__',\n",
       " '__new__',\n",
       " '__reduce__',\n",
       " '__reduce_ex__',\n",
       " '__repr__',\n",
       " '__rmul__',\n",
       " '__setattr__',\n",
       " '__sizeof__',\n",
       " '__str__',\n",
       " '__subclasshook__',\n",
       " 'count',\n",
       " 'index']"
      ]
     },
     "execution_count": 129,
     "metadata": {},
     "output_type": "execute_result"
    }
   ],
   "source": [
    "dir(tuple)"
   ]
  },
  {
   "cell_type": "markdown",
   "id": "ae02bc13",
   "metadata": {},
   "source": [
    "# String:"
   ]
  },
  {
   "cell_type": "code",
   "execution_count": 130,
   "id": "f1ccfb91",
   "metadata": {},
   "outputs": [],
   "source": [
    "x = 'Good Morning'"
   ]
  },
  {
   "cell_type": "code",
   "execution_count": 131,
   "id": "828e8ac8",
   "metadata": {},
   "outputs": [
    {
     "data": {
      "text/plain": [
       "'Good Morning'"
      ]
     },
     "execution_count": 131,
     "metadata": {},
     "output_type": "execute_result"
    }
   ],
   "source": [
    "x"
   ]
  },
  {
   "cell_type": "code",
   "execution_count": 132,
   "id": "06a59910",
   "metadata": {},
   "outputs": [
    {
     "name": "stdout",
     "output_type": "stream",
     "text": [
      "12\n"
     ]
    }
   ],
   "source": [
    "print(len(x))"
   ]
  },
  {
   "cell_type": "code",
   "execution_count": 133,
   "id": "838ceeb6",
   "metadata": {},
   "outputs": [],
   "source": [
    "y = 'good  morning'"
   ]
  },
  {
   "cell_type": "code",
   "execution_count": 134,
   "id": "8a01d09a",
   "metadata": {},
   "outputs": [
    {
     "data": {
      "text/plain": [
       "'good  morning'"
      ]
     },
     "execution_count": 134,
     "metadata": {},
     "output_type": "execute_result"
    }
   ],
   "source": [
    "y"
   ]
  },
  {
   "cell_type": "code",
   "execution_count": 135,
   "id": "c78a2e59",
   "metadata": {},
   "outputs": [
    {
     "name": "stdout",
     "output_type": "stream",
     "text": [
      "13\n"
     ]
    }
   ],
   "source": [
    "print(len(y))"
   ]
  },
  {
   "cell_type": "code",
   "execution_count": 136,
   "id": "f50d01b2",
   "metadata": {},
   "outputs": [
    {
     "name": "stdout",
     "output_type": "stream",
     "text": [
      "r\n"
     ]
    }
   ],
   "source": [
    "print(x[7])"
   ]
  },
  {
   "cell_type": "code",
   "execution_count": 137,
   "id": "490808db",
   "metadata": {},
   "outputs": [
    {
     "name": "stdout",
     "output_type": "stream",
     "text": [
      " Morning\n"
     ]
    }
   ],
   "source": [
    "print(x[4:])"
   ]
  },
  {
   "cell_type": "code",
   "execution_count": 138,
   "id": "ec210b79",
   "metadata": {},
   "outputs": [
    {
     "name": "stdout",
     "output_type": "stream",
     "text": [
      "False\n"
     ]
    }
   ],
   "source": [
    "print('a' in x)"
   ]
  },
  {
   "cell_type": "code",
   "execution_count": 139,
   "id": "2ea22505",
   "metadata": {},
   "outputs": [
    {
     "name": "stdout",
     "output_type": "stream",
     "text": [
      "True\n"
     ]
    }
   ],
   "source": [
    "print('o' in x)"
   ]
  },
  {
   "cell_type": "code",
   "execution_count": 140,
   "id": "aaf5c4d2",
   "metadata": {},
   "outputs": [
    {
     "name": "stdout",
     "output_type": "stream",
     "text": [
      "False\n"
     ]
    }
   ],
   "source": [
    "print('O' in x)"
   ]
  },
  {
   "cell_type": "code",
   "execution_count": 141,
   "id": "a04ec1ac",
   "metadata": {},
   "outputs": [],
   "source": [
    "a = 'Python'\n",
    "b = 'Java'"
   ]
  },
  {
   "cell_type": "code",
   "execution_count": 142,
   "id": "3367a400",
   "metadata": {},
   "outputs": [
    {
     "name": "stdout",
     "output_type": "stream",
     "text": [
      "welcome to Python classes\n"
     ]
    }
   ],
   "source": [
    "print('welcome to', a,'classes')"
   ]
  },
  {
   "cell_type": "code",
   "execution_count": 143,
   "id": "65327448",
   "metadata": {},
   "outputs": [
    {
     "name": "stdout",
     "output_type": "stream",
     "text": [
      "PythonPython\n"
     ]
    }
   ],
   "source": [
    "a = 'Python'\n",
    "print(a*2)"
   ]
  },
  {
   "cell_type": "code",
   "execution_count": 144,
   "id": "3e616922",
   "metadata": {},
   "outputs": [
    {
     "data": {
      "text/plain": [
       "'PythoTraining'"
      ]
     },
     "execution_count": 144,
     "metadata": {},
     "output_type": "execute_result"
    }
   ],
   "source": [
    "b = a[:5]+'Training'\n",
    "b"
   ]
  },
  {
   "cell_type": "code",
   "execution_count": 145,
   "id": "d8ba8c89",
   "metadata": {},
   "outputs": [
    {
     "data": {
      "text/plain": [
       "'Pytho Training'"
      ]
     },
     "execution_count": 145,
     "metadata": {},
     "output_type": "execute_result"
    }
   ],
   "source": [
    "c = a[:5]+' '+'Training'\n",
    "c"
   ]
  },
  {
   "cell_type": "code",
   "execution_count": 146,
   "id": "42f9c18d",
   "metadata": {},
   "outputs": [
    {
     "data": {
      "text/plain": [
       "'Good Morning'"
      ]
     },
     "execution_count": 146,
     "metadata": {},
     "output_type": "execute_result"
    }
   ],
   "source": [
    "x"
   ]
  },
  {
   "cell_type": "code",
   "execution_count": 147,
   "id": "9688d68d",
   "metadata": {},
   "outputs": [
    {
     "name": "stdout",
     "output_type": "stream",
     "text": [
      "1\n"
     ]
    }
   ],
   "source": [
    "print(x.find('o'))"
   ]
  },
  {
   "cell_type": "code",
   "execution_count": 148,
   "id": "255e67b9",
   "metadata": {},
   "outputs": [
    {
     "name": "stdout",
     "output_type": "stream",
     "text": [
      "0\n"
     ]
    }
   ],
   "source": [
    "print(x.find('G'))"
   ]
  },
  {
   "cell_type": "code",
   "execution_count": 149,
   "id": "df57510d",
   "metadata": {},
   "outputs": [
    {
     "name": "stdout",
     "output_type": "stream",
     "text": [
      "-1\n"
     ]
    }
   ],
   "source": [
    "print(x.find('x'))"
   ]
  },
  {
   "cell_type": "code",
   "execution_count": 150,
   "id": "f73dd4e2",
   "metadata": {},
   "outputs": [
    {
     "data": {
      "text/plain": [
       "['__add__',\n",
       " '__class__',\n",
       " '__contains__',\n",
       " '__delattr__',\n",
       " '__dir__',\n",
       " '__doc__',\n",
       " '__eq__',\n",
       " '__format__',\n",
       " '__ge__',\n",
       " '__getattribute__',\n",
       " '__getitem__',\n",
       " '__getnewargs__',\n",
       " '__gt__',\n",
       " '__hash__',\n",
       " '__init__',\n",
       " '__init_subclass__',\n",
       " '__iter__',\n",
       " '__le__',\n",
       " '__len__',\n",
       " '__lt__',\n",
       " '__mod__',\n",
       " '__mul__',\n",
       " '__ne__',\n",
       " '__new__',\n",
       " '__reduce__',\n",
       " '__reduce_ex__',\n",
       " '__repr__',\n",
       " '__rmod__',\n",
       " '__rmul__',\n",
       " '__setattr__',\n",
       " '__sizeof__',\n",
       " '__str__',\n",
       " '__subclasshook__',\n",
       " 'capitalize',\n",
       " 'casefold',\n",
       " 'center',\n",
       " 'count',\n",
       " 'encode',\n",
       " 'endswith',\n",
       " 'expandtabs',\n",
       " 'find',\n",
       " 'format',\n",
       " 'format_map',\n",
       " 'index',\n",
       " 'isalnum',\n",
       " 'isalpha',\n",
       " 'isascii',\n",
       " 'isdecimal',\n",
       " 'isdigit',\n",
       " 'isidentifier',\n",
       " 'islower',\n",
       " 'isnumeric',\n",
       " 'isprintable',\n",
       " 'isspace',\n",
       " 'istitle',\n",
       " 'isupper',\n",
       " 'join',\n",
       " 'ljust',\n",
       " 'lower',\n",
       " 'lstrip',\n",
       " 'maketrans',\n",
       " 'partition',\n",
       " 'removeprefix',\n",
       " 'removesuffix',\n",
       " 'replace',\n",
       " 'rfind',\n",
       " 'rindex',\n",
       " 'rjust',\n",
       " 'rpartition',\n",
       " 'rsplit',\n",
       " 'rstrip',\n",
       " 'split',\n",
       " 'splitlines',\n",
       " 'startswith',\n",
       " 'strip',\n",
       " 'swapcase',\n",
       " 'title',\n",
       " 'translate',\n",
       " 'upper',\n",
       " 'zfill']"
      ]
     },
     "execution_count": 150,
     "metadata": {},
     "output_type": "execute_result"
    }
   ],
   "source": [
    "dir(str)"
   ]
  },
  {
   "cell_type": "markdown",
   "id": "4c3c3bca",
   "metadata": {},
   "source": [
    "# Set:"
   ]
  },
  {
   "cell_type": "code",
   "execution_count": 151,
   "id": "a51f313f",
   "metadata": {},
   "outputs": [
    {
     "name": "stdout",
     "output_type": "stream",
     "text": [
      "{'G', 'M', 'i', 'g', 'd', 'r', 'n', ' ', 'o'}\n"
     ]
    }
   ],
   "source": [
    "a = set('Good Morning')\n",
    "print(a)"
   ]
  },
  {
   "cell_type": "code",
   "execution_count": 152,
   "id": "58687b9e",
   "metadata": {},
   "outputs": [
    {
     "name": "stdout",
     "output_type": "stream",
     "text": [
      "['G', 'o', 'o', 'd', ' ', 'M', 'o', 'r', 'n', 'i', 'n', 'g']\n"
     ]
    }
   ],
   "source": [
    "b = list('Good Morning')\n",
    "print(b)"
   ]
  },
  {
   "cell_type": "code",
   "execution_count": 153,
   "id": "97998c6d",
   "metadata": {},
   "outputs": [],
   "source": [
    "a = {3,8,9,8,9,5,1,9,2,3}\n",
    "b = {3,6,9,8,1}"
   ]
  },
  {
   "cell_type": "code",
   "execution_count": 154,
   "id": "cb2262b6",
   "metadata": {},
   "outputs": [
    {
     "name": "stdout",
     "output_type": "stream",
     "text": [
      "{1, 2, 3, 5, 6, 8, 9}\n"
     ]
    }
   ],
   "source": [
    "c = a|b\n",
    "print(c)"
   ]
  },
  {
   "cell_type": "code",
   "execution_count": 155,
   "id": "fd853869",
   "metadata": {},
   "outputs": [
    {
     "name": "stdout",
     "output_type": "stream",
     "text": [
      "{1, 2, 3, 5, 6, 8, 9}\n"
     ]
    }
   ],
   "source": [
    "print(a.union(b))"
   ]
  },
  {
   "cell_type": "code",
   "execution_count": 156,
   "id": "e1918c2e",
   "metadata": {},
   "outputs": [
    {
     "name": "stdout",
     "output_type": "stream",
     "text": [
      "{8, 1, 3, 9}\n"
     ]
    }
   ],
   "source": [
    "d = a&b\n",
    "print(d)"
   ]
  },
  {
   "cell_type": "code",
   "execution_count": 157,
   "id": "5bc71369",
   "metadata": {},
   "outputs": [
    {
     "name": "stdout",
     "output_type": "stream",
     "text": [
      "{8, 1, 3, 9}\n"
     ]
    }
   ],
   "source": [
    "print(a.intersection(b))"
   ]
  },
  {
   "cell_type": "code",
   "execution_count": 158,
   "id": "9ebdc6a8",
   "metadata": {},
   "outputs": [
    {
     "name": "stdout",
     "output_type": "stream",
     "text": [
      "{2, 5}\n"
     ]
    }
   ],
   "source": [
    "e = a-b\n",
    "print(e)"
   ]
  },
  {
   "cell_type": "code",
   "execution_count": 159,
   "id": "fcb2bd05",
   "metadata": {},
   "outputs": [
    {
     "name": "stdout",
     "output_type": "stream",
     "text": [
      "{2, 5}\n"
     ]
    }
   ],
   "source": [
    "print(a.difference(b))"
   ]
  },
  {
   "cell_type": "code",
   "execution_count": 160,
   "id": "b95f120c",
   "metadata": {},
   "outputs": [
    {
     "name": "stdout",
     "output_type": "stream",
     "text": [
      "{6}\n",
      "{6}\n"
     ]
    }
   ],
   "source": [
    "x = b-a\n",
    "print(x)\n",
    "print(x.difference(a))"
   ]
  },
  {
   "cell_type": "code",
   "execution_count": 161,
   "id": "9cd38424",
   "metadata": {},
   "outputs": [],
   "source": [
    "m = {4,7,9,8,43,2,6,8}\n",
    "n = {9,8,4,1}"
   ]
  },
  {
   "cell_type": "code",
   "execution_count": 162,
   "id": "72d8abca",
   "metadata": {},
   "outputs": [
    {
     "name": "stdout",
     "output_type": "stream",
     "text": [
      "False\n"
     ]
    }
   ],
   "source": [
    "print(n.issubset(a))"
   ]
  },
  {
   "cell_type": "code",
   "execution_count": 163,
   "id": "f5bc59e4",
   "metadata": {},
   "outputs": [
    {
     "name": "stdout",
     "output_type": "stream",
     "text": [
      "False\n"
     ]
    }
   ],
   "source": [
    "print(n.issubset(m))"
   ]
  },
  {
   "cell_type": "code",
   "execution_count": 164,
   "id": "3af195d0",
   "metadata": {},
   "outputs": [],
   "source": [
    "p = {9,8,4}"
   ]
  },
  {
   "cell_type": "code",
   "execution_count": 165,
   "id": "9b3463d0",
   "metadata": {},
   "outputs": [
    {
     "name": "stdout",
     "output_type": "stream",
     "text": [
      "True\n"
     ]
    }
   ],
   "source": [
    "print(p.issubset(m))"
   ]
  },
  {
   "cell_type": "code",
   "execution_count": 166,
   "id": "2e9afe49",
   "metadata": {},
   "outputs": [
    {
     "name": "stdout",
     "output_type": "stream",
     "text": [
      "True\n"
     ]
    }
   ],
   "source": [
    "print(m.issuperset(p))"
   ]
  },
  {
   "cell_type": "code",
   "execution_count": 167,
   "id": "8e920f51",
   "metadata": {},
   "outputs": [
    {
     "name": "stdout",
     "output_type": "stream",
     "text": [
      "{4, 7, 8, 9, 10}\n"
     ]
    }
   ],
   "source": [
    "a = {7,8,9,4}\n",
    "a.add(10)\n",
    "print(a)"
   ]
  },
  {
   "cell_type": "code",
   "execution_count": 168,
   "id": "2ab4325b",
   "metadata": {},
   "outputs": [
    {
     "name": "stdout",
     "output_type": "stream",
     "text": [
      "{8, 9, 4, 7}\n"
     ]
    }
   ],
   "source": [
    "a = {7,8,9,4}\n",
    "a.add(8)\n",
    "print(a)"
   ]
  },
  {
   "cell_type": "code",
   "execution_count": 169,
   "id": "89422f19",
   "metadata": {},
   "outputs": [
    {
     "name": "stdout",
     "output_type": "stream",
     "text": [
      "{8, 9, 7}\n"
     ]
    }
   ],
   "source": [
    "a.remove(4)\n",
    "print(a)"
   ]
  },
  {
   "cell_type": "code",
   "execution_count": 170,
   "id": "6ebeb577",
   "metadata": {},
   "outputs": [
    {
     "data": {
      "text/plain": [
       "['__and__',\n",
       " '__class__',\n",
       " '__class_getitem__',\n",
       " '__contains__',\n",
       " '__delattr__',\n",
       " '__dir__',\n",
       " '__doc__',\n",
       " '__eq__',\n",
       " '__format__',\n",
       " '__ge__',\n",
       " '__getattribute__',\n",
       " '__gt__',\n",
       " '__hash__',\n",
       " '__iand__',\n",
       " '__init__',\n",
       " '__init_subclass__',\n",
       " '__ior__',\n",
       " '__isub__',\n",
       " '__iter__',\n",
       " '__ixor__',\n",
       " '__le__',\n",
       " '__len__',\n",
       " '__lt__',\n",
       " '__ne__',\n",
       " '__new__',\n",
       " '__or__',\n",
       " '__rand__',\n",
       " '__reduce__',\n",
       " '__reduce_ex__',\n",
       " '__repr__',\n",
       " '__ror__',\n",
       " '__rsub__',\n",
       " '__rxor__',\n",
       " '__setattr__',\n",
       " '__sizeof__',\n",
       " '__str__',\n",
       " '__sub__',\n",
       " '__subclasshook__',\n",
       " '__xor__',\n",
       " 'add',\n",
       " 'clear',\n",
       " 'copy',\n",
       " 'difference',\n",
       " 'difference_update',\n",
       " 'discard',\n",
       " 'intersection',\n",
       " 'intersection_update',\n",
       " 'isdisjoint',\n",
       " 'issubset',\n",
       " 'issuperset',\n",
       " 'pop',\n",
       " 'remove',\n",
       " 'symmetric_difference',\n",
       " 'symmetric_difference_update',\n",
       " 'union',\n",
       " 'update']"
      ]
     },
     "execution_count": 170,
     "metadata": {},
     "output_type": "execute_result"
    }
   ],
   "source": [
    "dir(set)"
   ]
  },
  {
   "cell_type": "code",
   "execution_count": 171,
   "id": "fce59ecf",
   "metadata": {},
   "outputs": [
    {
     "name": "stdout",
     "output_type": "stream",
     "text": [
      "{2, 4, 5, 8}\n"
     ]
    }
   ],
   "source": [
    "a = {4,8,9,5,2}\n",
    "a.remove(9)\n",
    "print(a)"
   ]
  },
  {
   "cell_type": "code",
   "execution_count": 172,
   "id": "6fd749e8",
   "metadata": {},
   "outputs": [
    {
     "ename": "KeyError",
     "evalue": "9",
     "output_type": "error",
     "traceback": [
      "\u001b[1;31m---------------------------------------------------------------------------\u001b[0m",
      "\u001b[1;31mKeyError\u001b[0m                                  Traceback (most recent call last)",
      "\u001b[1;32m~\\AppData\\Local\\Temp\\ipykernel_10940\\3599039531.py\u001b[0m in \u001b[0;36m<module>\u001b[1;34m\u001b[0m\n\u001b[1;32m----> 1\u001b[1;33m \u001b[0ma\u001b[0m\u001b[1;33m.\u001b[0m\u001b[0mremove\u001b[0m\u001b[1;33m(\u001b[0m\u001b[1;36m9\u001b[0m\u001b[1;33m)\u001b[0m\u001b[1;33m\u001b[0m\u001b[1;33m\u001b[0m\u001b[0m\n\u001b[0m\u001b[0;32m      2\u001b[0m \u001b[0mprint\u001b[0m\u001b[1;33m(\u001b[0m\u001b[0ma\u001b[0m\u001b[1;33m)\u001b[0m\u001b[1;33m\u001b[0m\u001b[1;33m\u001b[0m\u001b[0m\n",
      "\u001b[1;31mKeyError\u001b[0m: 9"
     ]
    }
   ],
   "source": [
    "a.remove(9)\n",
    "print(a)"
   ]
  },
  {
   "cell_type": "code",
   "execution_count": 173,
   "id": "ebc7771f",
   "metadata": {},
   "outputs": [
    {
     "name": "stdout",
     "output_type": "stream",
     "text": [
      "{1, 2, 5, 7, 9}\n",
      "{1, 2, 5, 9}\n"
     ]
    }
   ],
   "source": [
    "b = {1,9,7,5,2}\n",
    "print(b)\n",
    "b.discard(7)\n",
    "print(b)"
   ]
  },
  {
   "cell_type": "code",
   "execution_count": 174,
   "id": "f2507f89",
   "metadata": {},
   "outputs": [
    {
     "name": "stdout",
     "output_type": "stream",
     "text": [
      "{1, 2, 5, 9}\n"
     ]
    }
   ],
   "source": [
    "b.discard(7)\n",
    "print(b)"
   ]
  },
  {
   "cell_type": "code",
   "execution_count": 175,
   "id": "af4a3e80",
   "metadata": {},
   "outputs": [
    {
     "name": "stdout",
     "output_type": "stream",
     "text": [
      "set()\n"
     ]
    }
   ],
   "source": [
    "b.clear()\n",
    "print(b)"
   ]
  },
  {
   "cell_type": "code",
   "execution_count": 176,
   "id": "1f8ad903",
   "metadata": {},
   "outputs": [
    {
     "ename": "NameError",
     "evalue": "name 'b' is not defined",
     "output_type": "error",
     "traceback": [
      "\u001b[1;31m---------------------------------------------------------------------------\u001b[0m",
      "\u001b[1;31mNameError\u001b[0m                                 Traceback (most recent call last)",
      "\u001b[1;32m~\\AppData\\Local\\Temp\\ipykernel_10940\\1772120980.py\u001b[0m in \u001b[0;36m<module>\u001b[1;34m\u001b[0m\n\u001b[0;32m      1\u001b[0m \u001b[1;32mdel\u001b[0m\u001b[1;33m(\u001b[0m\u001b[0mb\u001b[0m\u001b[1;33m)\u001b[0m\u001b[1;33m\u001b[0m\u001b[1;33m\u001b[0m\u001b[0m\n\u001b[1;32m----> 2\u001b[1;33m \u001b[0mprint\u001b[0m\u001b[1;33m(\u001b[0m\u001b[0mb\u001b[0m\u001b[1;33m)\u001b[0m\u001b[1;33m\u001b[0m\u001b[1;33m\u001b[0m\u001b[0m\n\u001b[0m",
      "\u001b[1;31mNameError\u001b[0m: name 'b' is not defined"
     ]
    }
   ],
   "source": [
    "del(b)\n",
    "print(b)"
   ]
  },
  {
   "cell_type": "code",
   "execution_count": 177,
   "id": "0e8f77f1",
   "metadata": {},
   "outputs": [
    {
     "name": "stdout",
     "output_type": "stream",
     "text": [
      "{3, 4, 5, 6, 8, 9}\n",
      "2\n"
     ]
    }
   ],
   "source": [
    "b = {8,9,3,5,6,4,2}\n",
    "c = b.pop()\n",
    "print(b)\n",
    "print(c)"
   ]
  },
  {
   "cell_type": "code",
   "execution_count": 178,
   "id": "f306d70b",
   "metadata": {},
   "outputs": [
    {
     "data": {
      "text/plain": [
       "{3, 4, 5, 6, 8, 9}"
      ]
     },
     "execution_count": 178,
     "metadata": {},
     "output_type": "execute_result"
    }
   ],
   "source": [
    "b"
   ]
  },
  {
   "cell_type": "code",
   "execution_count": 179,
   "id": "ae6be15d",
   "metadata": {},
   "outputs": [
    {
     "data": {
      "text/plain": [
       "frozenset({3, 4, 5, 6, 8, 9})"
      ]
     },
     "execution_count": 179,
     "metadata": {},
     "output_type": "execute_result"
    }
   ],
   "source": [
    "fz = frozenset(b)\n",
    "fz"
   ]
  },
  {
   "cell_type": "code",
   "execution_count": 180,
   "id": "78ae3b1b",
   "metadata": {},
   "outputs": [
    {
     "ename": "AttributeError",
     "evalue": "'frozenset' object has no attribute 'add'",
     "output_type": "error",
     "traceback": [
      "\u001b[1;31m---------------------------------------------------------------------------\u001b[0m",
      "\u001b[1;31mAttributeError\u001b[0m                            Traceback (most recent call last)",
      "\u001b[1;32m~\\AppData\\Local\\Temp\\ipykernel_10940\\1578954205.py\u001b[0m in \u001b[0;36m<module>\u001b[1;34m\u001b[0m\n\u001b[1;32m----> 1\u001b[1;33m \u001b[0mfz\u001b[0m\u001b[1;33m.\u001b[0m\u001b[0madd\u001b[0m\u001b[1;33m(\u001b[0m\u001b[1;36m1\u001b[0m\u001b[1;33m)\u001b[0m\u001b[1;33m\u001b[0m\u001b[1;33m\u001b[0m\u001b[0m\n\u001b[0m",
      "\u001b[1;31mAttributeError\u001b[0m: 'frozenset' object has no attribute 'add'"
     ]
    }
   ],
   "source": [
    "fz.add(1)"
   ]
  },
  {
   "cell_type": "code",
   "execution_count": 181,
   "id": "1211147a",
   "metadata": {},
   "outputs": [
    {
     "data": {
      "text/plain": [
       "{3, 4, 5, 6, 8, 9, 100}"
      ]
     },
     "execution_count": 181,
     "metadata": {},
     "output_type": "execute_result"
    }
   ],
   "source": [
    "fz = set(fz)\n",
    "fz.add(100)\n",
    "fz"
   ]
  },
  {
   "cell_type": "markdown",
   "id": "9f004d5c",
   "metadata": {},
   "source": [
    "# Dictionaries:"
   ]
  },
  {
   "cell_type": "code",
   "execution_count": 183,
   "id": "527d3e34",
   "metadata": {},
   "outputs": [
    {
     "data": {
      "text/plain": [
       "{'Name': 'John', 'age': 25}"
      ]
     },
     "execution_count": 183,
     "metadata": {},
     "output_type": "execute_result"
    }
   ],
   "source": [
    "student = {'Name':'John', 'age':25}\n",
    "student"
   ]
  },
  {
   "cell_type": "code",
   "execution_count": 184,
   "id": "d629f9bd",
   "metadata": {},
   "outputs": [
    {
     "data": {
      "text/plain": [
       "'John'"
      ]
     },
     "execution_count": 184,
     "metadata": {},
     "output_type": "execute_result"
    }
   ],
   "source": [
    "student['Name']"
   ]
  },
  {
   "cell_type": "code",
   "execution_count": 185,
   "id": "bedec009",
   "metadata": {},
   "outputs": [
    {
     "data": {
      "text/plain": [
       "25"
      ]
     },
     "execution_count": 185,
     "metadata": {},
     "output_type": "execute_result"
    }
   ],
   "source": [
    "student['age']"
   ]
  },
  {
   "cell_type": "code",
   "execution_count": 194,
   "id": "0aa944ba",
   "metadata": {},
   "outputs": [
    {
     "name": "stdout",
     "output_type": "stream",
     "text": [
      "{'first_name': ['Alia', 'Pinky', 'Mac', 'Surya'], 'last_name': 'x'}\n",
      "['Alia', 'Pinky', 'Mac', 'Surya']\n"
     ]
    }
   ],
   "source": [
    "student = {'first_name':['Alia', 'Pinky', 'Mac', 'Surya'], 'last_name':'x'}\n",
    "print(student)\n",
    "print(student['first_name'])"
   ]
  },
  {
   "cell_type": "code",
   "execution_count": 195,
   "id": "a6813764",
   "metadata": {},
   "outputs": [],
   "source": [
    "student['first_name'].append('kim')"
   ]
  },
  {
   "cell_type": "code",
   "execution_count": 196,
   "id": "37a47001",
   "metadata": {},
   "outputs": [
    {
     "data": {
      "text/plain": [
       "{'first_name': ['Alia', 'Pinky', 'Mac', 'Surya', 'kim'], 'last_name': 'x'}"
      ]
     },
     "execution_count": 196,
     "metadata": {},
     "output_type": "execute_result"
    }
   ],
   "source": [
    "student"
   ]
  },
  {
   "cell_type": "code",
   "execution_count": 197,
   "id": "6344819d",
   "metadata": {},
   "outputs": [],
   "source": [
    "del(student['first_name'])"
   ]
  },
  {
   "cell_type": "code",
   "execution_count": 198,
   "id": "f6fe434e",
   "metadata": {},
   "outputs": [
    {
     "data": {
      "text/plain": [
       "{'last_name': 'x'}"
      ]
     },
     "execution_count": 198,
     "metadata": {},
     "output_type": "execute_result"
    }
   ],
   "source": [
    "student"
   ]
  },
  {
   "cell_type": "code",
   "execution_count": 200,
   "id": "ed95e54a",
   "metadata": {},
   "outputs": [
    {
     "name": "stdout",
     "output_type": "stream",
     "text": [
      "{'first_name': ['Alia', 'Pinky', 'Mac', 'Surya'], 'last_name': 'x'}\n",
      "['Alia', 'Pinky', 'Mac', 'Surya']\n"
     ]
    }
   ],
   "source": [
    "Student = {'first_name':['Alia', 'Pinky', 'Mac', 'Surya'], 'last_name':'x'}\n",
    "print(Student)\n",
    "print(Student['first_name'])"
   ]
  },
  {
   "cell_type": "code",
   "execution_count": 201,
   "id": "c2778368",
   "metadata": {},
   "outputs": [
    {
     "name": "stdout",
     "output_type": "stream",
     "text": [
      "Mac\n"
     ]
    }
   ],
   "source": [
    "print(Student['first_name'][2])"
   ]
  },
  {
   "cell_type": "code",
   "execution_count": 203,
   "id": "f895c07b",
   "metadata": {},
   "outputs": [
    {
     "name": "stdout",
     "output_type": "stream",
     "text": [
      "['Alia', 'Pinky', 'sam', 'Surya']\n"
     ]
    }
   ],
   "source": [
    "Student['first_name'][2] = 'sam'\n",
    "print(Student['first_name'])"
   ]
  },
  {
   "cell_type": "code",
   "execution_count": 204,
   "id": "2b59a06c",
   "metadata": {},
   "outputs": [],
   "source": [
    "del(Student['first_name'][2])"
   ]
  },
  {
   "cell_type": "code",
   "execution_count": 205,
   "id": "d01c7607",
   "metadata": {},
   "outputs": [
    {
     "data": {
      "text/plain": [
       "{'first_name': ['Alia', 'Pinky', 'Surya'], 'last_name': 'x'}"
      ]
     },
     "execution_count": 205,
     "metadata": {},
     "output_type": "execute_result"
    }
   ],
   "source": [
    "Student"
   ]
  },
  {
   "cell_type": "code",
   "execution_count": 206,
   "id": "2f7866a5",
   "metadata": {},
   "outputs": [],
   "source": [
    "del(Student)"
   ]
  },
  {
   "cell_type": "code",
   "execution_count": 207,
   "id": "22f62746",
   "metadata": {},
   "outputs": [
    {
     "ename": "NameError",
     "evalue": "name 'Student' is not defined",
     "output_type": "error",
     "traceback": [
      "\u001b[1;31m---------------------------------------------------------------------------\u001b[0m",
      "\u001b[1;31mNameError\u001b[0m                                 Traceback (most recent call last)",
      "\u001b[1;32m~\\AppData\\Local\\Temp\\ipykernel_10940\\2136341870.py\u001b[0m in \u001b[0;36m<module>\u001b[1;34m\u001b[0m\n\u001b[1;32m----> 1\u001b[1;33m \u001b[0mStudent\u001b[0m\u001b[1;33m\u001b[0m\u001b[1;33m\u001b[0m\u001b[0m\n\u001b[0m",
      "\u001b[1;31mNameError\u001b[0m: name 'Student' is not defined"
     ]
    }
   ],
   "source": [
    "Student"
   ]
  },
  {
   "cell_type": "code",
   "execution_count": 208,
   "id": "659c90a9",
   "metadata": {},
   "outputs": [
    {
     "name": "stdout",
     "output_type": "stream",
     "text": [
      "{'first_name': ['Alia', 'Pinky', 'Mac', 'Surya'], 'last_name': 'x'}\n",
      "['Alia', 'Pinky', 'Mac', 'Surya']\n"
     ]
    }
   ],
   "source": [
    "Stu = {'first_name':['Alia', 'Pinky', 'Mac', 'Surya'], 'last_name':'x'}\n",
    "print(Stu)\n",
    "print(Stu['first_name'])"
   ]
  },
  {
   "cell_type": "code",
   "execution_count": 210,
   "id": "5a379c4e",
   "metadata": {},
   "outputs": [],
   "source": [
    "Stu.clear()"
   ]
  },
  {
   "cell_type": "code",
   "execution_count": 211,
   "id": "17cc9e5a",
   "metadata": {},
   "outputs": [
    {
     "name": "stdout",
     "output_type": "stream",
     "text": [
      "{}\n"
     ]
    }
   ],
   "source": [
    "print(Stu)"
   ]
  },
  {
   "cell_type": "code",
   "execution_count": 212,
   "id": "1b0d7a36",
   "metadata": {},
   "outputs": [
    {
     "name": "stdout",
     "output_type": "stream",
     "text": [
      "{'first_name': ['Alia', 'Pinky', 'Mac', 'Surya'], 'last_name': 'x'}\n",
      "['Alia', 'Pinky', 'Mac', 'Surya']\n"
     ]
    }
   ],
   "source": [
    "stu = {'first_name':['Alia', 'Pinky', 'Mac', 'Surya'], 'last_name':'x'}\n",
    "print(stu)\n",
    "print(stu['first_name'])"
   ]
  },
  {
   "cell_type": "code",
   "execution_count": 214,
   "id": "82505f63",
   "metadata": {},
   "outputs": [
    {
     "data": {
      "text/plain": [
       "dict_keys(['first_name', 'last_name'])"
      ]
     },
     "execution_count": 214,
     "metadata": {},
     "output_type": "execute_result"
    }
   ],
   "source": [
    "stu.keys()"
   ]
  },
  {
   "cell_type": "code",
   "execution_count": 215,
   "id": "23e3241e",
   "metadata": {},
   "outputs": [
    {
     "data": {
      "text/plain": [
       "dict_values([['Alia', 'Pinky', 'Mac', 'Surya'], 'x'])"
      ]
     },
     "execution_count": 215,
     "metadata": {},
     "output_type": "execute_result"
    }
   ],
   "source": [
    "stu.values()"
   ]
  },
  {
   "cell_type": "code",
   "execution_count": 216,
   "id": "5f787c4b",
   "metadata": {},
   "outputs": [
    {
     "data": {
      "text/plain": [
       "dict_items([('first_name', ['Alia', 'Pinky', 'Mac', 'Surya']), ('last_name', 'x')])"
      ]
     },
     "execution_count": 216,
     "metadata": {},
     "output_type": "execute_result"
    }
   ],
   "source": [
    "stu.items()"
   ]
  },
  {
   "cell_type": "code",
   "execution_count": 217,
   "id": "0e852838",
   "metadata": {},
   "outputs": [
    {
     "name": "stdout",
     "output_type": "stream",
     "text": [
      "['Alia', 'Pinky', 'Mac', 'Surya']\n"
     ]
    }
   ],
   "source": [
    "print(stu.get('first_name'))"
   ]
  },
  {
   "cell_type": "code",
   "execution_count": 218,
   "id": "61580a5d",
   "metadata": {},
   "outputs": [
    {
     "name": "stdout",
     "output_type": "stream",
     "text": [
      "{'A': 4, 'B': 16, 'C': 36, 'D': 64, 'E': 100}\n"
     ]
    }
   ],
   "source": [
    "dict = {'A':2, 'B':4, 'C':6, 'D':8, 'E':10}\n",
    "dict_compr = {k:v**2 for (k,v)in dict.items()}\n",
    "print(dict_compr)"
   ]
  },
  {
   "cell_type": "code",
   "execution_count": 220,
   "id": "2fceb58e",
   "metadata": {},
   "outputs": [
    {
     "data": {
      "text/plain": [
       "{'student': 'sam', 'marks': 89, 'grade': 'A'}"
      ]
     },
     "execution_count": 220,
     "metadata": {},
     "output_type": "execute_result"
    }
   ],
   "source": [
    "dict1 = {\"student\":'sam',\"marks\":89, \"grade\":'A'}\n",
    "dict1"
   ]
  },
  {
   "cell_type": "code",
   "execution_count": 223,
   "id": "f5718dbb",
   "metadata": {},
   "outputs": [
    {
     "data": {
      "text/plain": [
       "{'student': 'sam', 'marks': 89, 'grade': 'A', 'age': 26}"
      ]
     },
     "execution_count": 223,
     "metadata": {},
     "output_type": "execute_result"
    }
   ],
   "source": [
    "dict1['age'] = 26\n",
    "dict1"
   ]
  },
  {
   "cell_type": "code",
   "execution_count": 226,
   "id": "67fa6c64",
   "metadata": {},
   "outputs": [
    {
     "name": "stdout",
     "output_type": "stream",
     "text": [
      "{'student': 'sam', 'grade': 'A'}\n",
      "89\n"
     ]
    }
   ],
   "source": [
    "a = dict1.pop('marks')\n",
    "print(dict1)\n",
    "print(a)"
   ]
  },
  {
   "cell_type": "code",
   "execution_count": 227,
   "id": "aaf88e67",
   "metadata": {},
   "outputs": [
    {
     "name": "stdout",
     "output_type": "stream",
     "text": [
      "{'student': 'sam', 'grade': 'A'}\n"
     ]
    }
   ],
   "source": [
    "a = dict1.copy()\n",
    "print(dict1)"
   ]
  },
  {
   "cell_type": "markdown",
   "id": "37cd4759",
   "metadata": {},
   "source": [
    "     or"
   ]
  },
  {
   "cell_type": "code",
   "execution_count": 228,
   "id": "b5befb7a",
   "metadata": {},
   "outputs": [
    {
     "name": "stdout",
     "output_type": "stream",
     "text": [
      "{'student': 'sam', 'grade': 'A'}\n"
     ]
    }
   ],
   "source": [
    "a =dict1\n",
    "print(a)"
   ]
  },
  {
   "cell_type": "code",
   "execution_count": 229,
   "id": "7fcb8fc7",
   "metadata": {},
   "outputs": [
    {
     "data": {
      "text/plain": [
       "{'student': 'Tim', 'grade': 'A'}"
      ]
     },
     "execution_count": 229,
     "metadata": {},
     "output_type": "execute_result"
    }
   ],
   "source": [
    "a['student'] = 'Tim'\n",
    "a"
   ]
  },
  {
   "cell_type": "code",
   "execution_count": 230,
   "id": "f702f6a9",
   "metadata": {},
   "outputs": [
    {
     "data": {
      "text/plain": [
       "{'student': 'Tim', 'grade': 'A'}"
      ]
     },
     "execution_count": 230,
     "metadata": {},
     "output_type": "execute_result"
    }
   ],
   "source": [
    "dict1"
   ]
  },
  {
   "cell_type": "markdown",
   "id": "ac107dde",
   "metadata": {},
   "source": [
    "# Nested Dictionary:"
   ]
  },
  {
   "cell_type": "code",
   "execution_count": 235,
   "id": "b0584373",
   "metadata": {},
   "outputs": [],
   "source": [
    "my_family = {'father':{'name':'Venkata nagaraju', 'age':45},\n",
    "            'mother': {'name':'Vijaya Lakshmi', 'age':40},\n",
    "            'children':{\n",
    "             'child1':{'name':'Mounika', 'age':22},\n",
    "             'child2':{'name':'Bhumika', 'age':20},\n",
    "             'child3':{'name':'Sri Teja', 'age':16}\n",
    "            }\n",
    "            }"
   ]
  },
  {
   "cell_type": "code",
   "execution_count": 236,
   "id": "e5118fd8",
   "metadata": {},
   "outputs": [
    {
     "data": {
      "text/plain": [
       "{'father': {'name': 'Venkata nagaraju', 'age': 45},\n",
       " 'mother': {'name': 'Vijaya Lakshmi', 'age': 40},\n",
       " 'children': {'child1': {'name': 'Mounika', 'age': 22},\n",
       "  'child2': {'name': 'Bhumika', 'age': 20},\n",
       "  'child3': {'name': 'Sri Teja', 'age': 16}}}"
      ]
     },
     "execution_count": 236,
     "metadata": {},
     "output_type": "execute_result"
    }
   ],
   "source": [
    "my_family"
   ]
  },
  {
   "cell_type": "code",
   "execution_count": 237,
   "id": "277375a1",
   "metadata": {},
   "outputs": [
    {
     "data": {
      "text/plain": [
       "{'child1': {'name': 'Mounika', 'age': 22},\n",
       " 'child2': {'name': 'Bhumika', 'age': 20},\n",
       " 'child3': {'name': 'Sri Teja', 'age': 16}}"
      ]
     },
     "execution_count": 237,
     "metadata": {},
     "output_type": "execute_result"
    }
   ],
   "source": [
    "my_family['children']"
   ]
  },
  {
   "cell_type": "code",
   "execution_count": 240,
   "id": "e859507b",
   "metadata": {},
   "outputs": [
    {
     "data": {
      "text/plain": [
       "{'name': 'Mounika', 'age': 22}"
      ]
     },
     "execution_count": 240,
     "metadata": {},
     "output_type": "execute_result"
    }
   ],
   "source": [
    "my_family['children']['child1']"
   ]
  },
  {
   "cell_type": "code",
   "execution_count": 238,
   "id": "25d2adb3",
   "metadata": {},
   "outputs": [
    {
     "data": {
      "text/plain": [
       "{'name': 'Venkata nagaraju', 'age': 45}"
      ]
     },
     "execution_count": 238,
     "metadata": {},
     "output_type": "execute_result"
    }
   ],
   "source": [
    "my_family['father']"
   ]
  },
  {
   "cell_type": "code",
   "execution_count": 239,
   "id": "c0cc5ad7",
   "metadata": {},
   "outputs": [
    {
     "data": {
      "text/plain": [
       "{'name': 'Vijaya Lakshmi', 'age': 40}"
      ]
     },
     "execution_count": 239,
     "metadata": {},
     "output_type": "execute_result"
    }
   ],
   "source": [
    "my_family['mother']"
   ]
  },
  {
   "cell_type": "code",
   "execution_count": null,
   "id": "6339e4fa",
   "metadata": {},
   "outputs": [],
   "source": []
  }
 ],
 "metadata": {
  "kernelspec": {
   "display_name": "Python 3 (ipykernel)",
   "language": "python",
   "name": "python3"
  },
  "language_info": {
   "codemirror_mode": {
    "name": "ipython",
    "version": 3
   },
   "file_extension": ".py",
   "mimetype": "text/x-python",
   "name": "python",
   "nbconvert_exporter": "python",
   "pygments_lexer": "ipython3",
   "version": "3.9.13"
  }
 },
 "nbformat": 4,
 "nbformat_minor": 5
}
