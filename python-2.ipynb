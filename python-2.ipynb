{
 "cells": [
  {
   "cell_type": "markdown",
   "id": "c66b2640",
   "metadata": {},
   "source": [
    "# User-defined Functions:"
   ]
  },
  {
   "cell_type": "code",
   "execution_count": 1,
   "id": "ddafe3ff",
   "metadata": {},
   "outputs": [],
   "source": [
    "def sales():\n",
    "    price = 100\n",
    "    quantity = 10\n",
    "    salesamount = price * quantity\n",
    "    print(salesamount)"
   ]
  },
  {
   "cell_type": "code",
   "execution_count": 2,
   "id": "058d20e8",
   "metadata": {},
   "outputs": [
    {
     "name": "stdout",
     "output_type": "stream",
     "text": [
      "1000\n"
     ]
    }
   ],
   "source": [
    "sales()"
   ]
  },
  {
   "cell_type": "code",
   "execution_count": 3,
   "id": "4b17ebdf",
   "metadata": {},
   "outputs": [],
   "source": [
    "def sales(quantity):\n",
    "    price = 100\n",
    "    salesamount = price * quantity\n",
    "    print(salesamount)"
   ]
  },
  {
   "cell_type": "code",
   "execution_count": 4,
   "id": "0dcb5cb7",
   "metadata": {},
   "outputs": [
    {
     "name": "stdout",
     "output_type": "stream",
     "text": [
      "500\n"
     ]
    }
   ],
   "source": [
    "sales(5)"
   ]
  },
  {
   "cell_type": "code",
   "execution_count": 5,
   "id": "8ab26c93",
   "metadata": {},
   "outputs": [
    {
     "name": "stdout",
     "output_type": "stream",
     "text": [
      "800\n"
     ]
    }
   ],
   "source": [
    "sales(8)"
   ]
  },
  {
   "cell_type": "code",
   "execution_count": 6,
   "id": "6f9d6a93",
   "metadata": {},
   "outputs": [],
   "source": [
    "def sales(quantity, price):\n",
    "    salesamount = price * quantity\n",
    "    print(salesamount)"
   ]
  },
  {
   "cell_type": "code",
   "execution_count": 7,
   "id": "ad0886a0",
   "metadata": {},
   "outputs": [
    {
     "name": "stdout",
     "output_type": "stream",
     "text": [
      "1000\n"
     ]
    }
   ],
   "source": [
    "sales(20, 50)"
   ]
  },
  {
   "cell_type": "code",
   "execution_count": 8,
   "id": "2a593905",
   "metadata": {},
   "outputs": [
    {
     "name": "stdout",
     "output_type": "stream",
     "text": [
      "900\n"
     ]
    }
   ],
   "source": [
    "sales(15, 60)"
   ]
  },
  {
   "cell_type": "code",
   "execution_count": 9,
   "id": "29cdcf55",
   "metadata": {},
   "outputs": [],
   "source": [
    "def sales(quantity, price = 100):\n",
    "    salesamount = price*quantity\n",
    "    print(salesamount)"
   ]
  },
  {
   "cell_type": "code",
   "execution_count": 10,
   "id": "ae7d2387",
   "metadata": {},
   "outputs": [
    {
     "name": "stdout",
     "output_type": "stream",
     "text": [
      "1500\n"
     ]
    }
   ],
   "source": [
    "sales(15)"
   ]
  },
  {
   "cell_type": "code",
   "execution_count": 13,
   "id": "fdb80be7",
   "metadata": {},
   "outputs": [],
   "source": [
    "def sales(qty = 10, price = 100):\n",
    "    salesamount = price * qty\n",
    "    print(salesamount)"
   ]
  },
  {
   "cell_type": "code",
   "execution_count": 14,
   "id": "b9b648cb",
   "metadata": {},
   "outputs": [
    {
     "name": "stdout",
     "output_type": "stream",
     "text": [
      "1000\n"
     ]
    }
   ],
   "source": [
    "sales()"
   ]
  },
  {
   "cell_type": "code",
   "execution_count": 15,
   "id": "8a9079d1",
   "metadata": {},
   "outputs": [
    {
     "name": "stdout",
     "output_type": "stream",
     "text": [
      "2000\n"
     ]
    }
   ],
   "source": [
    "sales(20)"
   ]
  },
  {
   "cell_type": "code",
   "execution_count": 16,
   "id": "7eaba20f",
   "metadata": {},
   "outputs": [],
   "source": [
    "def sales(quantity = 10, price = 100):\n",
    "    salesamount = price * quantity\n",
    "    print(salesamount)"
   ]
  },
  {
   "cell_type": "code",
   "execution_count": 17,
   "id": "575a2a9e",
   "metadata": {},
   "outputs": [
    {
     "name": "stdout",
     "output_type": "stream",
     "text": [
      "7500\n"
     ]
    }
   ],
   "source": [
    "sales(75)"
   ]
  },
  {
   "cell_type": "code",
   "execution_count": 18,
   "id": "fed06000",
   "metadata": {},
   "outputs": [
    {
     "name": "stdout",
     "output_type": "stream",
     "text": [
      "750\n"
     ]
    }
   ],
   "source": [
    "sales(price = 75)"
   ]
  },
  {
   "cell_type": "code",
   "execution_count": 19,
   "id": "7076744d",
   "metadata": {},
   "outputs": [],
   "source": [
    "def sales(quantity = 10, price = 100):\n",
    "    salesamount = price * quantity\n",
    "    print(salesamount)"
   ]
  },
  {
   "cell_type": "code",
   "execution_count": 20,
   "id": "5e326741",
   "metadata": {},
   "outputs": [
    {
     "name": "stdout",
     "output_type": "stream",
     "text": [
      "1000\n"
     ]
    }
   ],
   "source": [
    "s1 = sales()"
   ]
  },
  {
   "cell_type": "code",
   "execution_count": 21,
   "id": "e9f2e9fe",
   "metadata": {},
   "outputs": [
    {
     "name": "stdout",
     "output_type": "stream",
     "text": [
      "None\n"
     ]
    }
   ],
   "source": [
    "print(s1)"
   ]
  },
  {
   "cell_type": "code",
   "execution_count": 22,
   "id": "769fa948",
   "metadata": {},
   "outputs": [],
   "source": [
    "def sales(quantity= 10, price = 100):\n",
    "    salesamount = price * quantity\n",
    "    print(salesamount)"
   ]
  },
  {
   "cell_type": "code",
   "execution_count": 23,
   "id": "b367b716",
   "metadata": {},
   "outputs": [
    {
     "name": "stdout",
     "output_type": "stream",
     "text": [
      "1000\n"
     ]
    }
   ],
   "source": [
    "sales()"
   ]
  },
  {
   "cell_type": "code",
   "execution_count": 24,
   "id": "5d02c55d",
   "metadata": {},
   "outputs": [],
   "source": [
    "def sales(quantity = 10, price = 100):\n",
    "    salesamount = price * quantity\n",
    "    print(salesamount)\n",
    "    return(salesamount)"
   ]
  },
  {
   "cell_type": "code",
   "execution_count": 25,
   "id": "9b1b59ab",
   "metadata": {},
   "outputs": [
    {
     "name": "stdout",
     "output_type": "stream",
     "text": [
      "1000\n"
     ]
    }
   ],
   "source": [
    "s1 = sales()"
   ]
  },
  {
   "cell_type": "code",
   "execution_count": 26,
   "id": "c7da7edf",
   "metadata": {},
   "outputs": [
    {
     "name": "stdout",
     "output_type": "stream",
     "text": [
      "1000\n"
     ]
    }
   ],
   "source": [
    "print(s1)"
   ]
  },
  {
   "cell_type": "code",
   "execution_count": 27,
   "id": "16f97bc8",
   "metadata": {},
   "outputs": [
    {
     "name": "stdout",
     "output_type": "stream",
     "text": [
      "250\n"
     ]
    }
   ],
   "source": [
    "s2 = sales(5, 50)"
   ]
  },
  {
   "cell_type": "code",
   "execution_count": 28,
   "id": "6af76e73",
   "metadata": {},
   "outputs": [
    {
     "data": {
      "text/plain": [
       "250"
      ]
     },
     "execution_count": 28,
     "metadata": {},
     "output_type": "execute_result"
    }
   ],
   "source": [
    "s2"
   ]
  },
  {
   "cell_type": "code",
   "execution_count": 29,
   "id": "9df2c7a9",
   "metadata": {},
   "outputs": [
    {
     "data": {
      "text/plain": [
       "1000"
      ]
     },
     "execution_count": 29,
     "metadata": {},
     "output_type": "execute_result"
    }
   ],
   "source": [
    "s1"
   ]
  },
  {
   "cell_type": "code",
   "execution_count": 30,
   "id": "774d27cb",
   "metadata": {},
   "outputs": [],
   "source": [
    "def sales(quantity = 10, price = 100):\n",
    "    salesamount = price * quantity\n",
    "    print(salesamount)\n",
    "    return(salesamount)"
   ]
  },
  {
   "cell_type": "code",
   "execution_count": 31,
   "id": "b5c66632",
   "metadata": {},
   "outputs": [],
   "source": [
    "sale = []"
   ]
  },
  {
   "cell_type": "code",
   "execution_count": 32,
   "id": "fbb12c69",
   "metadata": {},
   "outputs": [
    {
     "name": "stdout",
     "output_type": "stream",
     "text": [
      "250\n"
     ]
    }
   ],
   "source": [
    "sale.append(sales(5, 50))"
   ]
  },
  {
   "cell_type": "code",
   "execution_count": 33,
   "id": "3cf57849",
   "metadata": {},
   "outputs": [
    {
     "name": "stdout",
     "output_type": "stream",
     "text": [
      "5000\n"
     ]
    }
   ],
   "source": [
    "sale.append(sales(50))"
   ]
  },
  {
   "cell_type": "code",
   "execution_count": 35,
   "id": "d1545ce2",
   "metadata": {},
   "outputs": [
    {
     "name": "stdout",
     "output_type": "stream",
     "text": [
      "1000\n"
     ]
    }
   ],
   "source": [
    "sale.append(sales())"
   ]
  },
  {
   "cell_type": "code",
   "execution_count": 36,
   "id": "ba126147",
   "metadata": {},
   "outputs": [
    {
     "data": {
      "text/plain": [
       "[250, 5000, 1000]"
      ]
     },
     "execution_count": 36,
     "metadata": {},
     "output_type": "execute_result"
    }
   ],
   "source": [
    "sale"
   ]
  },
  {
   "cell_type": "code",
   "execution_count": 37,
   "id": "116f37ae",
   "metadata": {},
   "outputs": [],
   "source": [
    "def sales(qantity = 10, price = 100):\n",
    "    salesamount = price * quantity\n",
    "    print(salesamount)\n",
    "    return(salesamount)"
   ]
  },
  {
   "cell_type": "code",
   "execution_count": 38,
   "id": "0032b99e",
   "metadata": {},
   "outputs": [
    {
     "data": {
      "text/plain": [
       "5000"
      ]
     },
     "execution_count": 38,
     "metadata": {},
     "output_type": "execute_result"
    }
   ],
   "source": [
    "sale[1]"
   ]
  },
  {
   "cell_type": "code",
   "execution_count": 39,
   "id": "7fedd56f",
   "metadata": {},
   "outputs": [
    {
     "data": {
      "text/plain": [
       "1000"
      ]
     },
     "execution_count": 39,
     "metadata": {},
     "output_type": "execute_result"
    }
   ],
   "source": [
    "sale[2]"
   ]
  },
  {
   "cell_type": "code",
   "execution_count": 49,
   "id": "b5c38e84",
   "metadata": {},
   "outputs": [],
   "source": [
    "def financials(revenue, expenses):\n",
    "    profit = revenue - expenses\n",
    "    profit_ratio = profit/revenue\n",
    "    new_financials = (profit,profit_ratio)\n",
    "    return(new_financials)"
   ]
  },
  {
   "cell_type": "code",
   "execution_count": 50,
   "id": "e439cffe",
   "metadata": {},
   "outputs": [
    {
     "data": {
      "text/plain": [
       "(100, 0.1)"
      ]
     },
     "execution_count": 50,
     "metadata": {},
     "output_type": "execute_result"
    }
   ],
   "source": [
    "financials(1000,900)"
   ]
  },
  {
   "cell_type": "code",
   "execution_count": 51,
   "id": "d285247e",
   "metadata": {},
   "outputs": [
    {
     "name": "stdout",
     "output_type": "stream",
     "text": [
      "(100, 0.1)\n"
     ]
    }
   ],
   "source": [
    "x = financials(1000, 900)\n",
    "print(x)"
   ]
  },
  {
   "cell_type": "code",
   "execution_count": 52,
   "id": "e1f74acb",
   "metadata": {},
   "outputs": [
    {
     "name": "stdout",
     "output_type": "stream",
     "text": [
      "profit 100\n"
     ]
    }
   ],
   "source": [
    "print('profit', x [0])"
   ]
  },
  {
   "cell_type": "code",
   "execution_count": 53,
   "id": "9da1e140",
   "metadata": {},
   "outputs": [
    {
     "name": "stdout",
     "output_type": "stream",
     "text": [
      "profitratio 0.1\n"
     ]
    }
   ],
   "source": [
    "print('profitratio', x[1])"
   ]
  },
  {
   "cell_type": "code",
   "execution_count": 54,
   "id": "bf46c4e7",
   "metadata": {},
   "outputs": [],
   "source": [
    "def financials(revenue, expenses):\n",
    "    profit = revenue - expenses\n",
    "    profit_ratio = profit/revenue\n",
    "    new_financials = (profit, profit_ratio)\n",
    "    return(new_financials)"
   ]
  },
  {
   "cell_type": "code",
   "execution_count": 56,
   "id": "b75b10d7",
   "metadata": {},
   "outputs": [
    {
     "name": "stdout",
     "output_type": "stream",
     "text": [
      "profit 100\n",
      "profit ratio 0.1\n"
     ]
    }
   ],
   "source": [
    "x = financials(1000,900)\n",
    "print('profit', x[0])\n",
    "print('profit ratio', x[1])"
   ]
  },
  {
   "cell_type": "code",
   "execution_count": 57,
   "id": "5ce4d31f",
   "metadata": {},
   "outputs": [],
   "source": [
    "def convertto(deg):\n",
    "    f = (deg*9/5)+32\n",
    "    return(f)"
   ]
  },
  {
   "cell_type": "code",
   "execution_count": 60,
   "id": "90506a4b",
   "metadata": {},
   "outputs": [
    {
     "name": "stdout",
     "output_type": "stream",
     "text": [
      "100.4\n"
     ]
    }
   ],
   "source": [
    "temp = 38\n",
    "temp = convertto(temp)\n",
    "print(temp)"
   ]
  },
  {
   "cell_type": "code",
   "execution_count": 61,
   "id": "ec4da664",
   "metadata": {},
   "outputs": [
    {
     "name": "stdout",
     "output_type": "stream",
     "text": [
      "104.0\n"
     ]
    }
   ],
   "source": [
    "temp = 40\n",
    "temp = convertto(temp)\n",
    "print(temp)"
   ]
  },
  {
   "cell_type": "code",
   "execution_count": null,
   "id": "a48af64d",
   "metadata": {},
   "outputs": [],
   "source": []
  }
 ],
 "metadata": {
  "kernelspec": {
   "display_name": "Python 3 (ipykernel)",
   "language": "python",
   "name": "python3"
  },
  "language_info": {
   "codemirror_mode": {
    "name": "ipython",
    "version": 3
   },
   "file_extension": ".py",
   "mimetype": "text/x-python",
   "name": "python",
   "nbconvert_exporter": "python",
   "pygments_lexer": "ipython3",
   "version": "3.9.13"
  }
 },
 "nbformat": 4,
 "nbformat_minor": 5
}
