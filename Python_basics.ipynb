{
 "cells": [
  {
   "cell_type": "markdown",
   "id": "5c96c0b4",
   "metadata": {},
   "source": [
    "# Python Operators:"
   ]
  },
  {
   "cell_type": "code",
   "execution_count": 1,
   "id": "a5548427",
   "metadata": {},
   "outputs": [
    {
     "name": "stdout",
     "output_type": "stream",
     "text": [
      "<class 'int'>\n",
      "90\n"
     ]
    }
   ],
   "source": [
    "a = 90\n",
    "print(type(a))\n",
    "print(a)"
   ]
  },
  {
   "cell_type": "code",
   "execution_count": 2,
   "id": "7580da99",
   "metadata": {},
   "outputs": [
    {
     "name": "stdout",
     "output_type": "stream",
     "text": [
      "110\n"
     ]
    }
   ],
   "source": [
    "a = 80\n",
    "b = 30\n",
    "c = a + b\n",
    "print(c)"
   ]
  },
  {
   "cell_type": "code",
   "execution_count": 3,
   "id": "2ba9f6ec",
   "metadata": {},
   "outputs": [
    {
     "name": "stdout",
     "output_type": "stream",
     "text": [
      "50\n"
     ]
    }
   ],
   "source": [
    "a = 100\n",
    "b = 50\n",
    "c = a - b\n",
    "print(c)"
   ]
  },
  {
   "cell_type": "code",
   "execution_count": 6,
   "id": "df48b054",
   "metadata": {},
   "outputs": [
    {
     "name": "stdout",
     "output_type": "stream",
     "text": [
      "240\n"
     ]
    }
   ],
   "source": [
    "a = 60\n",
    "b = 4\n",
    "c = a * b\n",
    "print(c)"
   ]
  },
  {
   "cell_type": "code",
   "execution_count": 8,
   "id": "a716f62d",
   "metadata": {},
   "outputs": [
    {
     "name": "stdout",
     "output_type": "stream",
     "text": [
      "1.6666666666666667\n"
     ]
    }
   ],
   "source": [
    "a = 50\n",
    "b = 30\n",
    "c = a/b\n",
    "print(c)"
   ]
  },
  {
   "cell_type": "code",
   "execution_count": 9,
   "id": "f80609cb",
   "metadata": {},
   "outputs": [
    {
     "name": "stdout",
     "output_type": "stream",
     "text": [
      "10\n"
     ]
    }
   ],
   "source": [
    "a = 70\n",
    "b = 30\n",
    "c = a % b\n",
    "print(c)"
   ]
  },
  {
   "cell_type": "code",
   "execution_count": 10,
   "id": "97e80486",
   "metadata": {},
   "outputs": [
    {
     "name": "stdout",
     "output_type": "stream",
     "text": [
      "2\n"
     ]
    }
   ],
   "source": [
    "a = 70\n",
    "b = 30\n",
    "c = a // b\n",
    "print(c)"
   ]
  },
  {
   "cell_type": "code",
   "execution_count": 11,
   "id": "4552d443",
   "metadata": {},
   "outputs": [
    {
     "name": "stdout",
     "output_type": "stream",
     "text": [
      "8\n"
     ]
    }
   ],
   "source": [
    "a = 2\n",
    "b = 3\n",
    "c = a ** b\n",
    "print(c)"
   ]
  },
  {
   "cell_type": "code",
   "execution_count": 13,
   "id": "fd21056e",
   "metadata": {},
   "outputs": [
    {
     "name": "stdout",
     "output_type": "stream",
     "text": [
      "90\n",
      "60\n"
     ]
    }
   ],
   "source": [
    "a = 30\n",
    "b = 60\n",
    "a += b\n",
    "print(a)\n",
    "print(b)"
   ]
  },
  {
   "cell_type": "code",
   "execution_count": 14,
   "id": "c0d81f86",
   "metadata": {},
   "outputs": [
    {
     "name": "stdout",
     "output_type": "stream",
     "text": [
      "-30\n"
     ]
    }
   ],
   "source": [
    "a = 30\n",
    "b = 60\n",
    "a -= b\n",
    "print(a)"
   ]
  },
  {
   "cell_type": "code",
   "execution_count": 15,
   "id": "a3bb4b2b",
   "metadata": {},
   "outputs": [
    {
     "name": "stdout",
     "output_type": "stream",
     "text": [
      "30\n"
     ]
    }
   ],
   "source": [
    "a = 60\n",
    "b = 30\n",
    "a -= b\n",
    "print(a)"
   ]
  },
  {
   "cell_type": "code",
   "execution_count": 16,
   "id": "df779c91",
   "metadata": {},
   "outputs": [
    {
     "name": "stdout",
     "output_type": "stream",
     "text": [
      "180\n"
     ]
    }
   ],
   "source": [
    "a = 60\n",
    "b = 3\n",
    "a *= b\n",
    "print(a)"
   ]
  },
  {
   "cell_type": "code",
   "execution_count": 17,
   "id": "758622cb",
   "metadata": {},
   "outputs": [
    {
     "name": "stdout",
     "output_type": "stream",
     "text": [
      "3.0\n"
     ]
    }
   ],
   "source": [
    "a = 60\n",
    "b = 20\n",
    "a /= b\n",
    "print(a)"
   ]
  },
  {
   "cell_type": "code",
   "execution_count": 19,
   "id": "d572dc6c",
   "metadata": {},
   "outputs": [
    {
     "name": "stdout",
     "output_type": "stream",
     "text": [
      "0\n"
     ]
    }
   ],
   "source": [
    "a = 60\n",
    "b = 20\n",
    "a %= b\n",
    "print(a)"
   ]
  },
  {
   "cell_type": "code",
   "execution_count": 22,
   "id": "fb89c839",
   "metadata": {},
   "outputs": [
    {
     "name": "stdout",
     "output_type": "stream",
     "text": [
      "2.3333333333333335\n"
     ]
    }
   ],
   "source": [
    "a = 70\n",
    "b = 30\n",
    "a /= b\n",
    "print(a)"
   ]
  },
  {
   "cell_type": "code",
   "execution_count": 20,
   "id": "2281c5e3",
   "metadata": {},
   "outputs": [
    {
     "name": "stdout",
     "output_type": "stream",
     "text": [
      "10\n"
     ]
    }
   ],
   "source": [
    "a = 70\n",
    "b = 30\n",
    "a %= b\n",
    "print(a)"
   ]
  },
  {
   "cell_type": "code",
   "execution_count": 21,
   "id": "e5f2e9a9",
   "metadata": {},
   "outputs": [
    {
     "name": "stdout",
     "output_type": "stream",
     "text": [
      "2\n"
     ]
    }
   ],
   "source": [
    "a = 70\n",
    "b = 30\n",
    "a //= b\n",
    "print(a)"
   ]
  },
  {
   "cell_type": "code",
   "execution_count": 24,
   "id": "c566c579",
   "metadata": {},
   "outputs": [
    {
     "name": "stdout",
     "output_type": "stream",
     "text": [
      "False\n"
     ]
    }
   ],
   "source": [
    "a = 300\n",
    "b = 100\n",
    "print(a == b)"
   ]
  },
  {
   "cell_type": "code",
   "execution_count": 28,
   "id": "889dbd85",
   "metadata": {},
   "outputs": [
    {
     "name": "stdout",
     "output_type": "stream",
     "text": [
      "True\n"
     ]
    }
   ],
   "source": [
    "a = 300\n",
    "b = 100\n",
    "print(a != b)"
   ]
  },
  {
   "cell_type": "code",
   "execution_count": 29,
   "id": "64468a2b",
   "metadata": {},
   "outputs": [
    {
     "name": "stdout",
     "output_type": "stream",
     "text": [
      "False\n"
     ]
    }
   ],
   "source": [
    "a = 300\n",
    "b = 100\n",
    "print(a <= b)"
   ]
  },
  {
   "cell_type": "code",
   "execution_count": 30,
   "id": "3ce71877",
   "metadata": {},
   "outputs": [
    {
     "name": "stdout",
     "output_type": "stream",
     "text": [
      "True\n"
     ]
    }
   ],
   "source": [
    "a = 300\n",
    "b = 100\n",
    "print(a >= b)"
   ]
  },
  {
   "cell_type": "code",
   "execution_count": 27,
   "id": "a42cb832",
   "metadata": {},
   "outputs": [
    {
     "name": "stdout",
     "output_type": "stream",
     "text": [
      "True\n"
     ]
    }
   ],
   "source": [
    "a = 300\n",
    "b = 100\n",
    "print(a > b)"
   ]
  },
  {
   "cell_type": "code",
   "execution_count": 31,
   "id": "2de66dcf",
   "metadata": {},
   "outputs": [
    {
     "name": "stdout",
     "output_type": "stream",
     "text": [
      "False\n"
     ]
    }
   ],
   "source": [
    "a = 300\n",
    "b = 100\n",
    "print(a < b)"
   ]
  },
  {
   "cell_type": "code",
   "execution_count": 32,
   "id": "554a94b3",
   "metadata": {},
   "outputs": [
    {
     "name": "stdout",
     "output_type": "stream",
     "text": [
      "True\n"
     ]
    }
   ],
   "source": [
    "a = 500\n",
    "b = 400\n",
    "c = 100\n",
    "print(a>b and b>c)"
   ]
  },
  {
   "cell_type": "code",
   "execution_count": 33,
   "id": "41a54278",
   "metadata": {},
   "outputs": [
    {
     "name": "stdout",
     "output_type": "stream",
     "text": [
      "True\n"
     ]
    }
   ],
   "source": [
    "a = 500\n",
    "b = 400\n",
    "c = 100\n",
    "print(a>b or b>c)"
   ]
  },
  {
   "cell_type": "code",
   "execution_count": 34,
   "id": "23ca5ae4",
   "metadata": {},
   "outputs": [
    {
     "name": "stdout",
     "output_type": "stream",
     "text": [
      "False\n"
     ]
    }
   ],
   "source": [
    "a = 500\n",
    "b = 400\n",
    "c = 100\n",
    "print(not(a>b and b>c))"
   ]
  },
  {
   "cell_type": "code",
   "execution_count": 35,
   "id": "d57ed118",
   "metadata": {},
   "outputs": [
    {
     "name": "stdout",
     "output_type": "stream",
     "text": [
      "2744937702032\n",
      "2744937702032\n",
      "True\n"
     ]
    }
   ],
   "source": [
    "a = 200\n",
    "b = 200\n",
    "print(id(a))\n",
    "print(id(b))\n",
    "print(a is b)"
   ]
  },
  {
   "cell_type": "code",
   "execution_count": 36,
   "id": "9a1fec89",
   "metadata": {},
   "outputs": [
    {
     "name": "stdout",
     "output_type": "stream",
     "text": [
      "2745021058864\n",
      "2745021052784\n",
      "False\n"
     ]
    }
   ],
   "source": [
    "a = 'Today is Sunday'\n",
    "b = 'Today is Sunday'\n",
    "print(id(a))\n",
    "print(id(b))\n",
    "print(a is b)"
   ]
  },
  {
   "cell_type": "code",
   "execution_count": 37,
   "id": "b40d5f4b",
   "metadata": {},
   "outputs": [
    {
     "name": "stdout",
     "output_type": "stream",
     "text": [
      "2745020758336\n",
      "2745021023104\n",
      "False\n"
     ]
    }
   ],
   "source": [
    "a = [10, 20, 30]\n",
    "b = [10, 20, 30]\n",
    "print(id(a))\n",
    "print(id(b))\n",
    "print(a is b)"
   ]
  },
  {
   "cell_type": "code",
   "execution_count": 39,
   "id": "a81e177b",
   "metadata": {},
   "outputs": [
    {
     "name": "stdout",
     "output_type": "stream",
     "text": [
      "2745021024384\n",
      "2745021024384\n",
      "False\n"
     ]
    }
   ],
   "source": [
    "a = [10, 20, 30]\n",
    "c = a\n",
    "print(id(a))\n",
    "print(id(c))\n",
    "print(a is not c)"
   ]
  },
  {
   "cell_type": "code",
   "execution_count": 42,
   "id": "cfa7d47b",
   "metadata": {},
   "outputs": [
    {
     "name": "stdout",
     "output_type": "stream",
     "text": [
      "2745021023104\n",
      "2745021023104\n",
      "True\n"
     ]
    }
   ],
   "source": [
    "a = [10, 20, 30]\n",
    "c = a\n",
    "print(id(a))\n",
    "print(id(c))\n",
    "print(a is c)"
   ]
  },
  {
   "cell_type": "code",
   "execution_count": 40,
   "id": "63cdcf9f",
   "metadata": {},
   "outputs": [
    {
     "name": "stdout",
     "output_type": "stream",
     "text": [
      "2745021026896\n",
      "2745021027856\n",
      "False\n"
     ]
    }
   ],
   "source": [
    "a = 500\n",
    "b = 500\n",
    "print(id(a))\n",
    "print(id(b))\n",
    "print(a is b)"
   ]
  },
  {
   "cell_type": "code",
   "execution_count": 41,
   "id": "27ff946a",
   "metadata": {},
   "outputs": [
    {
     "name": "stdout",
     "output_type": "stream",
     "text": [
      "2744986105264\n",
      "2744986105264\n",
      "True\n"
     ]
    }
   ],
   "source": [
    "a = 'Sunday'\n",
    "b = 'Sunday'\n",
    "print(id(a))\n",
    "print(id(b))\n",
    "print(a is b)"
   ]
  },
  {
   "cell_type": "code",
   "execution_count": 43,
   "id": "740640ed",
   "metadata": {},
   "outputs": [
    {
     "name": "stdout",
     "output_type": "stream",
     "text": [
      "True\n"
     ]
    }
   ],
   "source": [
    "a = 'Today is Sunday'\n",
    "print('i' in a)"
   ]
  },
  {
   "cell_type": "code",
   "execution_count": 44,
   "id": "c1b1dbda",
   "metadata": {},
   "outputs": [
    {
     "name": "stdout",
     "output_type": "stream",
     "text": [
      "True\n"
     ]
    }
   ],
   "source": [
    "a = 'Today is Sunday'\n",
    "print('is' in a)"
   ]
  },
  {
   "cell_type": "code",
   "execution_count": 45,
   "id": "fb462755",
   "metadata": {},
   "outputs": [
    {
     "name": "stdout",
     "output_type": "stream",
     "text": [
      "False\n"
     ]
    }
   ],
   "source": [
    "a = 'Today is Sunday'\n",
    "print('I' in a)"
   ]
  },
  {
   "cell_type": "code",
   "execution_count": 46,
   "id": "dbaf069f",
   "metadata": {},
   "outputs": [
    {
     "name": "stdout",
     "output_type": "stream",
     "text": [
      "True\n"
     ]
    }
   ],
   "source": [
    "a = [10, 20, 30]\n",
    "print(20 in a)"
   ]
  },
  {
   "cell_type": "code",
   "execution_count": 47,
   "id": "b2192c51",
   "metadata": {},
   "outputs": [
    {
     "name": "stdout",
     "output_type": "stream",
     "text": [
      "False\n"
     ]
    }
   ],
   "source": [
    "a = (10, 20, 30)\n",
    "print(150 in a)"
   ]
  },
  {
   "cell_type": "code",
   "execution_count": 48,
   "id": "baea5016",
   "metadata": {},
   "outputs": [
    {
     "name": "stdout",
     "output_type": "stream",
     "text": [
      "True\n"
     ]
    }
   ],
   "source": [
    "a = 'Today is Sunday'\n",
    "print('Sunday' in a)"
   ]
  },
  {
   "cell_type": "code",
   "execution_count": 49,
   "id": "367501b4",
   "metadata": {},
   "outputs": [
    {
     "name": "stdout",
     "output_type": "stream",
     "text": [
      "False\n"
     ]
    }
   ],
   "source": [
    "a = 'Today is Sunday'\n",
    "print('sunday' in a)"
   ]
  },
  {
   "cell_type": "markdown",
   "id": "d4eb1017",
   "metadata": {},
   "source": [
    "# Conditional Statements:"
   ]
  },
  {
   "cell_type": "code",
   "execution_count": 50,
   "id": "e22f929d",
   "metadata": {},
   "outputs": [
    {
     "name": "stdout",
     "output_type": "stream",
     "text": [
      "100\n",
      "200\n",
      "a less than b\n"
     ]
    }
   ],
   "source": [
    "a = 100\n",
    "b = 200\n",
    "if a < b:\n",
    "    print(a)\n",
    "    print(b)\n",
    "    print('a less than b')"
   ]
  },
  {
   "cell_type": "code",
   "execution_count": 51,
   "id": "a33f8036",
   "metadata": {},
   "outputs": [
    {
     "name": "stdout",
     "output_type": "stream",
     "text": [
      "200\n",
      "200\n",
      "a less than b\n",
      "200\n",
      "200\n",
      "a greater than b\n",
      "200\n",
      "200\n",
      "a and b are equal\n"
     ]
    }
   ],
   "source": [
    "a = 200\n",
    "b = 200\n",
    "if a <= b:\n",
    "    print(a)\n",
    "    print(b)\n",
    "    print('a less than b')\n",
    "if a >= b:\n",
    "    print(a)\n",
    "    print(b)\n",
    "    print('a greater than b')\n",
    "if a == b:\n",
    "    print(a)\n",
    "    print(b)\n",
    "    print('a and b are equal')"
   ]
  },
  {
   "cell_type": "code",
   "execution_count": 53,
   "id": "2e8760cc",
   "metadata": {},
   "outputs": [
    {
     "name": "stdout",
     "output_type": "stream",
     "text": [
      "200\n",
      "200\n",
      "a less than b\n"
     ]
    }
   ],
   "source": [
    "a = 200\n",
    "b = 200\n",
    "if a <= b:\n",
    "    print(a)\n",
    "    print(b)\n",
    "    print('a less than b')\n",
    "elif a >= b:\n",
    "    print(a)\n",
    "    print(b)\n",
    "    print('a greater than b')\n",
    "elif a == b:\n",
    "    print(a)\n",
    "    print(b)\n",
    "    print('a and b are equal')"
   ]
  },
  {
   "cell_type": "code",
   "execution_count": 54,
   "id": "cf6713b0",
   "metadata": {},
   "outputs": [
    {
     "name": "stdout",
     "output_type": "stream",
     "text": [
      "200\n",
      "200\n",
      "a is greater than b\n"
     ]
    }
   ],
   "source": [
    "a = 200\n",
    "b = 200\n",
    "if a < b:\n",
    "    print(a)\n",
    "    print(b)\n",
    "    print('a less than b')\n",
    "elif a >= b:\n",
    "    print(a)\n",
    "    print(b)\n",
    "    print('a is greater than b')\n",
    "elif a == b:\n",
    "    print(a)\n",
    "    print(b)\n",
    "    print('a and b are equal')"
   ]
  },
  {
   "cell_type": "code",
   "execution_count": 55,
   "id": "bb429fe4",
   "metadata": {},
   "outputs": [
    {
     "name": "stdout",
     "output_type": "stream",
     "text": [
      "100 and 100 are equal\n"
     ]
    }
   ],
   "source": [
    "a = 100\n",
    "b = 100\n",
    "if a > b:\n",
    "    print(a, 'Greater than', b)\n",
    "elif b > a:\n",
    "    print(b, 'Greater than', a)\n",
    "else:\n",
    "    print(a, 'and', b, 'are equal')"
   ]
  },
  {
   "cell_type": "code",
   "execution_count": 56,
   "id": "084d13e1",
   "metadata": {},
   "outputs": [
    {
     "name": "stdout",
     "output_type": "stream",
     "text": [
      "300 Greater than 200\n"
     ]
    }
   ],
   "source": [
    "a = 300\n",
    "if a < 100:\n",
    "    print(a, 'Less than 100')\n",
    "elif (100 <= a <= 200):\n",
    "    print(a, 'is between 100 and 200')\n",
    "else:\n",
    "    print(a, 'Greater than 200')"
   ]
  },
  {
   "cell_type": "code",
   "execution_count": 57,
   "id": "451c1431",
   "metadata": {},
   "outputs": [
    {
     "name": "stdout",
     "output_type": "stream",
     "text": [
      "40 Less than 100\n",
      "40 is between 20 and 50\n"
     ]
    }
   ],
   "source": [
    "a = 40\n",
    "if a < 100:\n",
    "    print(a, 'Less than 100')\n",
    "    if (50 <= a <= 100):\n",
    "        print(a, 'is between 50 and 100')\n",
    "    elif (20 <= a <= 50):\n",
    "        print(a, 'is between 20 and 50')\n",
    "    else:\n",
    "        print(a, 'is less than 20')\n",
    "elif (20 <= a <= 200):\n",
    "    print(a, 'is between 50 and 200')\n",
    "else:\n",
    "    print(a, 'Greater than 200')"
   ]
  },
  {
   "cell_type": "code",
   "execution_count": 60,
   "id": "4608ace3",
   "metadata": {},
   "outputs": [
    {
     "name": "stdout",
     "output_type": "stream",
     "text": [
      "150 is smaller than 200\n"
     ]
    }
   ],
   "source": [
    "a = 150\n",
    "b = 200\n",
    "if a < b:\n",
    "    print(a, 'is smaller than', b)\n",
    "    if 10 <= a <= 100:\n",
    "        print(a, 'is between 10 and 100')\n",
    "    elif a < 10:\n",
    "        print(a, 'is less than 10')\n",
    "else:\n",
    "    print(a,'is bigger number than', b)"
   ]
  },
  {
   "cell_type": "code",
   "execution_count": 61,
   "id": "2c37c470",
   "metadata": {},
   "outputs": [
    {
     "name": "stdout",
     "output_type": "stream",
     "text": [
      "enter first number10\n",
      "enter second number20\n",
      "1020\n"
     ]
    }
   ],
   "source": [
    "a = input('enter first number')\n",
    "b = input('enter second number')\n",
    "total = a + b\n",
    "print(total)"
   ]
  },
  {
   "cell_type": "code",
   "execution_count": 62,
   "id": "1ddaf99d",
   "metadata": {},
   "outputs": [
    {
     "name": "stdout",
     "output_type": "stream",
     "text": [
      "enter first number60\n",
      "enter second number30\n",
      "90\n"
     ]
    }
   ],
   "source": [
    "m = int(input(\"enter first number\"))\n",
    "n = int(input(\"enter second number\"))\n",
    "total = m + n\n",
    "print(total)"
   ]
  },
  {
   "cell_type": "markdown",
   "id": "d0180f89",
   "metadata": {},
   "source": [
    "                   or"
   ]
  },
  {
   "cell_type": "code",
   "execution_count": 63,
   "id": "f090cea6",
   "metadata": {},
   "outputs": [
    {
     "name": "stdout",
     "output_type": "stream",
     "text": [
      "enter first number50\n",
      "enter second number20\n",
      "70\n"
     ]
    }
   ],
   "source": [
    "m = input(\"enter first number\")\n",
    "n = input(\"enter second number\")\n",
    "total = int(m) + int(n)\n",
    "print(total)"
   ]
  },
  {
   "cell_type": "code",
   "execution_count": 64,
   "id": "cedfbbcb",
   "metadata": {},
   "outputs": [
    {
     "name": "stdout",
     "output_type": "stream",
     "text": [
      "0\n",
      "1\n",
      "2\n",
      "3\n",
      "4\n"
     ]
    }
   ],
   "source": [
    "total = 0\n",
    "for i in range(5):\n",
    "    print(i)"
   ]
  },
  {
   "cell_type": "markdown",
   "id": "c1d59889",
   "metadata": {},
   "source": [
    "# while Loop:"
   ]
  },
  {
   "cell_type": "code",
   "execution_count": 65,
   "id": "8be67eab",
   "metadata": {},
   "outputs": [
    {
     "name": "stdout",
     "output_type": "stream",
     "text": [
      "enter number49\n",
      "enter number56\n",
      "Sum of numbers 105\n"
     ]
    }
   ],
   "source": [
    "total = 0\n",
    "while total < 100:\n",
    "    number = int(input('enter number'))\n",
    "    total = total + number\n",
    "print('Sum of numbers', total)"
   ]
  },
  {
   "cell_type": "code",
   "execution_count": 66,
   "id": "02e1d85a",
   "metadata": {},
   "outputs": [
    {
     "name": "stdout",
     "output_type": "stream",
     "text": [
      "The number is 1\n",
      "The number is 2\n",
      "The number is 3\n",
      "The number is 4\n",
      "Program end\n"
     ]
    }
   ],
   "source": [
    "a = 1\n",
    "while a < 5:\n",
    "    print('The number is', a)\n",
    "    a += 1\n",
    "print('Program end')"
   ]
  },
  {
   "cell_type": "code",
   "execution_count": 67,
   "id": "178949b8",
   "metadata": {},
   "outputs": [
    {
     "name": "stdout",
     "output_type": "stream",
     "text": [
      "Loop Start\n",
      "2\n",
      "3\n",
      "4\n",
      "5\n",
      "6\n",
      "7\n",
      "8\n",
      "9\n",
      "Loop End\n"
     ]
    }
   ],
   "source": [
    "x = 2\n",
    "print('Loop Start')\n",
    "while x < 10:\n",
    "    print(x)\n",
    "    x += 1\n",
    "print('Loop End')"
   ]
  },
  {
   "cell_type": "code",
   "execution_count": 68,
   "id": "93ce9fb8",
   "metadata": {},
   "outputs": [
    {
     "name": "stdout",
     "output_type": "stream",
     "text": [
      "Loop Start\n",
      "2\n",
      "4\n",
      "6\n",
      "8\n",
      "Loop End\n"
     ]
    }
   ],
   "source": [
    "x = 2\n",
    "print('Loop Start')\n",
    "while x < 10:\n",
    "    print(x)\n",
    "    x += 2\n",
    "print('Loop End')"
   ]
  },
  {
   "cell_type": "markdown",
   "id": "a9fa2f9e",
   "metadata": {},
   "source": [
    "# for Loop:"
   ]
  },
  {
   "cell_type": "code",
   "execution_count": 69,
   "id": "321857a8",
   "metadata": {},
   "outputs": [
    {
     "name": "stdout",
     "output_type": "stream",
     "text": [
      "0\n",
      "1\n",
      "2\n",
      "3\n",
      "Good Day\n"
     ]
    }
   ],
   "source": [
    "A = [10, 20, 30, 40]\n",
    "for i in range(len(A)):\n",
    "    print(i)\n",
    "print('Good Day')"
   ]
  },
  {
   "cell_type": "code",
   "execution_count": 71,
   "id": "3d33dc8e",
   "metadata": {},
   "outputs": [
    {
     "name": "stdout",
     "output_type": "stream",
     "text": [
      "\n",
      "1\n",
      "22\n",
      "333\n",
      "4444\n",
      "55555\n",
      "666666\n",
      "7777777\n",
      "88888888\n",
      "999999999\n",
      "\n"
     ]
    }
   ],
   "source": [
    "for i in range(10):\n",
    "    print(str(i)*i)\n",
    "print()"
   ]
  },
  {
   "cell_type": "code",
   "execution_count": 72,
   "id": "bc734f79",
   "metadata": {},
   "outputs": [
    {
     "name": "stdout",
     "output_type": "stream",
     "text": [
      "10\n",
      "11\n"
     ]
    }
   ],
   "source": [
    "a = 10\n",
    "print(a)\n",
    "a += 1\n",
    "print(a)"
   ]
  },
  {
   "cell_type": "code",
   "execution_count": 73,
   "id": "68f5fc87",
   "metadata": {},
   "outputs": [
    {
     "name": "stdout",
     "output_type": "stream",
     "text": [
      "10\n",
      "15\n",
      "20\n",
      "25\n",
      "Good Day\n"
     ]
    }
   ],
   "source": [
    "a = [10, 15, 20, 25]\n",
    "for i in a:\n",
    "    print(i)\n",
    "print('Good Day')"
   ]
  },
  {
   "cell_type": "code",
   "execution_count": 74,
   "id": "1694fcde",
   "metadata": {},
   "outputs": [
    {
     "data": {
      "text/plain": [
       "4"
      ]
     },
     "execution_count": 74,
     "metadata": {},
     "output_type": "execute_result"
    }
   ],
   "source": [
    "len(a)"
   ]
  },
  {
   "cell_type": "code",
   "execution_count": 75,
   "id": "8626a433",
   "metadata": {},
   "outputs": [
    {
     "name": "stdout",
     "output_type": "stream",
     "text": [
      "0\n",
      "1\n",
      "2\n",
      "3\n",
      "4\n",
      "5\n",
      "6\n",
      "7\n",
      "8\n",
      "9\n"
     ]
    }
   ],
   "source": [
    "for i in range(10):\n",
    "    print(i)"
   ]
  },
  {
   "cell_type": "code",
   "execution_count": 77,
   "id": "cd2cad91",
   "metadata": {},
   "outputs": [
    {
     "name": "stdout",
     "output_type": "stream",
     "text": [
      "pen\n",
      "  school\n",
      "  college\n",
      "pencil\n",
      "  school\n",
      "  college\n",
      "book\n",
      "  school\n",
      "  college\n",
      "toy\n",
      "  school\n",
      "  college\n"
     ]
    }
   ],
   "source": [
    "a = ['pen', 'pencil', 'book', 'toy']\n",
    "b = ['school', 'college']\n",
    "for i in a:\n",
    "    print(i)\n",
    "    for j in b:\n",
    "        print(' ', j)\n",
    "    "
   ]
  },
  {
   "cell_type": "code",
   "execution_count": 78,
   "id": "011f1ba9",
   "metadata": {},
   "outputs": [
    {
     "name": "stdout",
     "output_type": "stream",
     "text": [
      "pen\n",
      "  school\n",
      "  college\n",
      "book\n",
      "  school\n",
      "  college\n"
     ]
    }
   ],
   "source": [
    "a = ['pen', 'book']\n",
    "b = ['school', 'college']\n",
    "for i in a:\n",
    "    print(i)\n",
    "    for j in b:\n",
    "        print(' ',j)\n",
    "        continue\n",
    "        print(' ', j)"
   ]
  },
  {
   "cell_type": "code",
   "execution_count": 79,
   "id": "555b0b04",
   "metadata": {},
   "outputs": [
    {
     "name": "stdout",
     "output_type": "stream",
     "text": [
      "pen\n",
      "  school\n",
      "  school\n",
      "  college\n",
      "  college\n",
      "book\n",
      "  school\n",
      "  school\n",
      "  college\n",
      "  college\n"
     ]
    }
   ],
   "source": [
    "a = ['pen','book']\n",
    "b = ['school', 'college']\n",
    "for i in a:\n",
    "    print(i)\n",
    "    for j in b:\n",
    "        print(' ', j)\n",
    "        print(' ', j)"
   ]
  },
  {
   "cell_type": "code",
   "execution_count": 80,
   "id": "7e6fe3cb",
   "metadata": {},
   "outputs": [
    {
     "name": "stdout",
     "output_type": "stream",
     "text": [
      "pen\n",
      "  school\n",
      "book\n",
      "  school\n"
     ]
    }
   ],
   "source": [
    "a = ['pen', 'book']\n",
    "b = ['school', 'college']\n",
    "for i in a:\n",
    "    print(i)\n",
    "    for j in b:\n",
    "        print(' ', j)\n",
    "        break\n",
    "        print(' ', j)"
   ]
  },
  {
   "cell_type": "code",
   "execution_count": 81,
   "id": "fee31475",
   "metadata": {},
   "outputs": [
    {
     "name": "stdout",
     "output_type": "stream",
     "text": [
      "pen\n",
      "pencil\n"
     ]
    }
   ],
   "source": [
    "a = ['pen', 'pencil']\n",
    "b = ['school', 'college']\n",
    "for i in a:\n",
    "    print(i)\n",
    "    continue\n",
    "    for j in b:\n",
    "        print(' ', j)\n",
    "        print(' ', j)"
   ]
  },
  {
   "cell_type": "code",
   "execution_count": 82,
   "id": "e11753ec",
   "metadata": {},
   "outputs": [
    {
     "name": "stdout",
     "output_type": "stream",
     "text": [
      "pen\n"
     ]
    }
   ],
   "source": [
    "a = ['pen', 'pencil']\n",
    "b = ['school', 'college']\n",
    "for i in a:\n",
    "    print(i)\n",
    "    break\n",
    "    for j in b:\n",
    "        print(' ', j)\n",
    "        print(' ', j)"
   ]
  }
 ],
 "metadata": {
  "kernelspec": {
   "display_name": "Python 3 (ipykernel)",
   "language": "python",
   "name": "python3"
  },
  "language_info": {
   "codemirror_mode": {
    "name": "ipython",
    "version": 3
   },
   "file_extension": ".py",
   "mimetype": "text/x-python",
   "name": "python",
   "nbconvert_exporter": "python",
   "pygments_lexer": "ipython3",
   "version": "3.9.13"
  }
 },
 "nbformat": 4,
 "nbformat_minor": 5
}
